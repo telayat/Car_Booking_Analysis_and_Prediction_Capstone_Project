{
 "cells": [
  {
   "cell_type": "markdown",
   "metadata": {},
   "source": [
    "### Data Scientist Nano Degree - Capstone Project \n",
    "### Car Booking Analysis and Prediction\n",
    "### Tarek Abd ElRahman Ahmed ElAyat"
   ]
  },
  {
   "cell_type": "markdown",
   "metadata": {},
   "source": [
    "#### Let's import the needed libraries"
   ]
  },
  {
   "cell_type": "code",
   "execution_count": 1,
   "metadata": {},
   "outputs": [],
   "source": [
    "import pandas as pd\n",
    "import matplotlib.pyplot as plt\n",
    "import seaborn as sns\n",
    "import numpy as np\n",
    "import warnings\n",
    "\n",
    "from sklearn import model_selection\n",
    "from sklearn.linear_model import LinearRegression\n",
    "from sklearn.linear_model import LogisticRegression\n",
    "from sklearn.ensemble import RandomForestRegressor\n",
    "\n",
    "from sklearn.model_selection import train_test_split\n",
    "from sklearn.metrics import r2_score, mean_squared_error\n",
    "from math import sqrt\n",
    "\n",
    "import xgboost as xgb\n",
    "from sklearn import preprocessing\n",
    "#from sklearn.preprocessing import MinMaxScaler\n",
    "#scaler = MinMaxScaler()\n",
    "\n",
    "warnings.filterwarnings('ignore')\n",
    "%matplotlib inline"
   ]
  },
  {
   "cell_type": "code",
   "execution_count": 2,
   "metadata": {},
   "outputs": [],
   "source": [
    "def print_model_scores(model, X_train, X_test, y_train, y_test):\n",
    "    '''\n",
    "    INPUT:\n",
    "    model - the regression model\n",
    "    X_train - pandas dataframe for the training dataset\n",
    "    X_test - pandas dataframe for the test dataset\n",
    "    y_train - pandas dataframe for the training label\n",
    "    y_test - pandas dataframe for the test label\n",
    "    \n",
    "    OUTPUT:\n",
    "    y_train_preds - panadas dataframe for the y_train prediction\n",
    "    y_test_preds - panadas dataframe for the y_test prediction\n",
    "    print scores \n",
    "    '''\n",
    "    \n",
    "    #Predict and score the model on training data\n",
    "    y_train_preds = model.predict(X_train) \n",
    "    print(\"The r-squared score for our model on Training data is {} on {} values.\".format(r2_score(y_train, y_train_preds), len(y_train)))\n",
    "    print(\"The mean_squared_error score for our model on Training data is {} on {} values.\".format(mean_squared_error(y_train, y_train_preds), len(y_train)))\n",
    "    print(\"The root_mean_squared_error score for our model on Training data is {} on {} values.\".format(sqrt(mean_squared_error(y_train, y_train_preds)), len(y_train)))\n",
    "\n",
    "    print(\" \")\n",
    "    #Predict and score the model on test data\n",
    "    y_test_preds = model.predict(X_test) \n",
    "    print(\"The r-squared score for our model on Testing data is {} on {} values.\".format(r2_score(y_test, y_test_preds), len(y_test)))\n",
    "    print(\"The mean_squared_error score for our model on Testing data is {} on {} values.\".format(mean_squared_error(y_test, y_test_preds), len(y_test)))\n",
    "    print(\"The root_mean_squared_error score for our model on Testing data is {} on {} values.\".format(sqrt(mean_squared_error(y_test, y_test_preds)), len(y_test)))\n",
    "    \n",
    "    return y_train_preds, y_test_preds\n"
   ]
  },
  {
   "cell_type": "code",
   "execution_count": 3,
   "metadata": {},
   "outputs": [],
   "source": [
    "def create_dummy_df(df, dummy_na):\n",
    "    '''\n",
    "    INPUT:\n",
    "    df - pandas dataframe with categorical variables you want to dummy\n",
    "    dummy_na - Bool holding whether you want to dummy NA vals of categorical columns or not\n",
    "    \n",
    "    OUTPUT:\n",
    "    df - a new dataframe that has the following characteristics:\n",
    "            1. contains all columns that were not specified as categorical\n",
    "            2. removes all the original columns in cat_cols\n",
    "            3. dummy columns for each of the categorical columns\n",
    "            4. if dummy_na is True - it also contains dummy columns for the NaN values\n",
    "            5. Use a prefix of the column name with an underscore (_) for separating \n",
    "    '''\n",
    "    cat_cols = df.select_dtypes(include=['object']).columns\n",
    "    \n",
    "    for col in  cat_cols:\n",
    "        try:\n",
    "            # for each cat add dummy var, drop original column\n",
    "            df = pd.concat([df.drop(col, axis=1), pd.get_dummies(df[col], prefix=col, prefix_sep='_', drop_first=True, dummy_na=dummy_na)], axis=1)\n",
    "        except:\n",
    "            continue\n",
    "    return df"
   ]
  },
  {
   "cell_type": "code",
   "execution_count": 4,
   "metadata": {},
   "outputs": [],
   "source": [
    "def coef_weights(coefficients, X_train):\n",
    "    '''\n",
    "    INPUT:\n",
    "    coefficients - the coefficients of the linear model \n",
    "    X_train - the training data, so the column names can be used\n",
    "    OUTPUT:\n",
    "    coefs_df - a dataframe holding the coefficient, estimate, and abs(estimate)\n",
    "    \n",
    "    Provides a dataframe that can be used to understand the most influential coefficients\n",
    "    in a linear model by providing the coefficient estimates along with the name of the \n",
    "    variable attached to the coefficient.\n",
    "    '''\n",
    "    coefs_df = pd.DataFrame()\n",
    "    coefs_df['est_int'] = X_train.columns\n",
    "    coefs_df['coefs'] = coefficients\n",
    "    coefs_df['abs_coefs'] = np.abs(coefficients)\n",
    "    coefs_df = coefs_df.sort_values('abs_coefs', ascending=False)\n",
    "    return coefs_df"
   ]
  },
  {
   "cell_type": "markdown",
   "metadata": {},
   "source": [
    "### Load the training data and lookup files"
   ]
  },
  {
   "cell_type": "code",
   "execution_count": 5,
   "metadata": {},
   "outputs": [],
   "source": [
    "df_taxi = pd.read_csv('C:\\\\Users\\\\tayat\\\\Documents\\\\Capstone Project\\\\NYC Dataset\\\\taxi_onefile.csv')\n",
    "df_lookup_zone = pd.read_csv('C:\\\\Users\\\\tayat\\\\Documents\\\\Capstone Project\\\\NYC Dataset\\\\taxi+_zone_lookup.csv')"
   ]
  },
  {
   "cell_type": "code",
   "execution_count": 6,
   "metadata": {},
   "outputs": [],
   "source": [
    "pd.set_option('display.max_rows', 50)"
   ]
  },
  {
   "cell_type": "markdown",
   "metadata": {},
   "source": [
    "### Basic data exploration, list the columns with their data types and describe the features"
   ]
  },
  {
   "cell_type": "code",
   "execution_count": 7,
   "metadata": {},
   "outputs": [
    {
     "data": {
      "text/plain": [
       "(42821916, 18)"
      ]
     },
     "execution_count": 7,
     "metadata": {},
     "output_type": "execute_result"
    }
   ],
   "source": [
    "df_taxi.shape"
   ]
  },
  {
   "cell_type": "code",
   "execution_count": 8,
   "metadata": {},
   "outputs": [
    {
     "data": {
      "text/html": [
       "<div>\n",
       "<style scoped>\n",
       "    .dataframe tbody tr th:only-of-type {\n",
       "        vertical-align: middle;\n",
       "    }\n",
       "\n",
       "    .dataframe tbody tr th {\n",
       "        vertical-align: top;\n",
       "    }\n",
       "\n",
       "    .dataframe thead th {\n",
       "        text-align: right;\n",
       "    }\n",
       "</style>\n",
       "<table border=\"1\" class=\"dataframe\">\n",
       "  <thead>\n",
       "    <tr style=\"text-align: right;\">\n",
       "      <th></th>\n",
       "      <th>VendorID</th>\n",
       "      <th>tpep_pickup_datetime</th>\n",
       "      <th>tpep_dropoff_datetime</th>\n",
       "      <th>passenger_count</th>\n",
       "      <th>trip_distance</th>\n",
       "      <th>RatecodeID</th>\n",
       "      <th>store_and_fwd_flag</th>\n",
       "      <th>PULocationID</th>\n",
       "      <th>DOLocationID</th>\n",
       "      <th>payment_type</th>\n",
       "      <th>fare_amount</th>\n",
       "      <th>extra</th>\n",
       "      <th>mta_tax</th>\n",
       "      <th>tip_amount</th>\n",
       "      <th>tolls_amount</th>\n",
       "      <th>improvement_surcharge</th>\n",
       "      <th>total_amount</th>\n",
       "      <th>congestion_surcharge</th>\n",
       "    </tr>\n",
       "  </thead>\n",
       "  <tbody>\n",
       "    <tr>\n",
       "      <th>0</th>\n",
       "      <td>1.0</td>\n",
       "      <td>2019-01-01 00:46:40</td>\n",
       "      <td>2019-01-01 00:53:20</td>\n",
       "      <td>1.0</td>\n",
       "      <td>1.5</td>\n",
       "      <td>1.0</td>\n",
       "      <td>N</td>\n",
       "      <td>151</td>\n",
       "      <td>239</td>\n",
       "      <td>1.0</td>\n",
       "      <td>7.0</td>\n",
       "      <td>0.5</td>\n",
       "      <td>0.5</td>\n",
       "      <td>1.65</td>\n",
       "      <td>0.0</td>\n",
       "      <td>0.3</td>\n",
       "      <td>9.95</td>\n",
       "      <td>NaN</td>\n",
       "    </tr>\n",
       "    <tr>\n",
       "      <th>1</th>\n",
       "      <td>1.0</td>\n",
       "      <td>2019-01-01 00:59:47</td>\n",
       "      <td>2019-01-01 01:18:59</td>\n",
       "      <td>1.0</td>\n",
       "      <td>2.6</td>\n",
       "      <td>1.0</td>\n",
       "      <td>N</td>\n",
       "      <td>239</td>\n",
       "      <td>246</td>\n",
       "      <td>1.0</td>\n",
       "      <td>14.0</td>\n",
       "      <td>0.5</td>\n",
       "      <td>0.5</td>\n",
       "      <td>1.00</td>\n",
       "      <td>0.0</td>\n",
       "      <td>0.3</td>\n",
       "      <td>16.30</td>\n",
       "      <td>NaN</td>\n",
       "    </tr>\n",
       "    <tr>\n",
       "      <th>2</th>\n",
       "      <td>2.0</td>\n",
       "      <td>2018-12-21 13:48:30</td>\n",
       "      <td>2018-12-21 13:52:40</td>\n",
       "      <td>3.0</td>\n",
       "      <td>0.0</td>\n",
       "      <td>1.0</td>\n",
       "      <td>N</td>\n",
       "      <td>236</td>\n",
       "      <td>236</td>\n",
       "      <td>1.0</td>\n",
       "      <td>4.5</td>\n",
       "      <td>0.5</td>\n",
       "      <td>0.5</td>\n",
       "      <td>0.00</td>\n",
       "      <td>0.0</td>\n",
       "      <td>0.3</td>\n",
       "      <td>5.80</td>\n",
       "      <td>NaN</td>\n",
       "    </tr>\n",
       "    <tr>\n",
       "      <th>3</th>\n",
       "      <td>2.0</td>\n",
       "      <td>2018-11-28 15:52:25</td>\n",
       "      <td>2018-11-28 15:55:45</td>\n",
       "      <td>5.0</td>\n",
       "      <td>0.0</td>\n",
       "      <td>1.0</td>\n",
       "      <td>N</td>\n",
       "      <td>193</td>\n",
       "      <td>193</td>\n",
       "      <td>2.0</td>\n",
       "      <td>3.5</td>\n",
       "      <td>0.5</td>\n",
       "      <td>0.5</td>\n",
       "      <td>0.00</td>\n",
       "      <td>0.0</td>\n",
       "      <td>0.3</td>\n",
       "      <td>7.55</td>\n",
       "      <td>NaN</td>\n",
       "    </tr>\n",
       "    <tr>\n",
       "      <th>4</th>\n",
       "      <td>2.0</td>\n",
       "      <td>2018-11-28 15:56:57</td>\n",
       "      <td>2018-11-28 15:58:33</td>\n",
       "      <td>5.0</td>\n",
       "      <td>0.0</td>\n",
       "      <td>2.0</td>\n",
       "      <td>N</td>\n",
       "      <td>193</td>\n",
       "      <td>193</td>\n",
       "      <td>2.0</td>\n",
       "      <td>52.0</td>\n",
       "      <td>0.0</td>\n",
       "      <td>0.5</td>\n",
       "      <td>0.00</td>\n",
       "      <td>0.0</td>\n",
       "      <td>0.3</td>\n",
       "      <td>55.55</td>\n",
       "      <td>NaN</td>\n",
       "    </tr>\n",
       "  </tbody>\n",
       "</table>\n",
       "</div>"
      ],
      "text/plain": [
       "   VendorID tpep_pickup_datetime tpep_dropoff_datetime  passenger_count  \\\n",
       "0       1.0  2019-01-01 00:46:40   2019-01-01 00:53:20              1.0   \n",
       "1       1.0  2019-01-01 00:59:47   2019-01-01 01:18:59              1.0   \n",
       "2       2.0  2018-12-21 13:48:30   2018-12-21 13:52:40              3.0   \n",
       "3       2.0  2018-11-28 15:52:25   2018-11-28 15:55:45              5.0   \n",
       "4       2.0  2018-11-28 15:56:57   2018-11-28 15:58:33              5.0   \n",
       "\n",
       "   trip_distance  RatecodeID store_and_fwd_flag  PULocationID  DOLocationID  \\\n",
       "0            1.5         1.0                  N           151           239   \n",
       "1            2.6         1.0                  N           239           246   \n",
       "2            0.0         1.0                  N           236           236   \n",
       "3            0.0         1.0                  N           193           193   \n",
       "4            0.0         2.0                  N           193           193   \n",
       "\n",
       "   payment_type  fare_amount  extra  mta_tax  tip_amount  tolls_amount  \\\n",
       "0           1.0          7.0    0.5      0.5        1.65           0.0   \n",
       "1           1.0         14.0    0.5      0.5        1.00           0.0   \n",
       "2           1.0          4.5    0.5      0.5        0.00           0.0   \n",
       "3           2.0          3.5    0.5      0.5        0.00           0.0   \n",
       "4           2.0         52.0    0.0      0.5        0.00           0.0   \n",
       "\n",
       "   improvement_surcharge  total_amount  congestion_surcharge  \n",
       "0                    0.3          9.95                   NaN  \n",
       "1                    0.3         16.30                   NaN  \n",
       "2                    0.3          5.80                   NaN  \n",
       "3                    0.3          7.55                   NaN  \n",
       "4                    0.3         55.55                   NaN  "
      ]
     },
     "execution_count": 8,
     "metadata": {},
     "output_type": "execute_result"
    }
   ],
   "source": [
    "df_taxi.head()"
   ]
  },
  {
   "cell_type": "markdown",
   "metadata": {},
   "source": [
    "### List the columns, dtypes, and describe the features"
   ]
  },
  {
   "cell_type": "code",
   "execution_count": 9,
   "metadata": {},
   "outputs": [
    {
     "data": {
      "text/plain": [
       "VendorID                 float64\n",
       "tpep_pickup_datetime      object\n",
       "tpep_dropoff_datetime     object\n",
       "passenger_count          float64\n",
       "trip_distance            float64\n",
       "RatecodeID               float64\n",
       "store_and_fwd_flag        object\n",
       "PULocationID               int64\n",
       "DOLocationID               int64\n",
       "payment_type             float64\n",
       "fare_amount              float64\n",
       "extra                    float64\n",
       "mta_tax                  float64\n",
       "tip_amount               float64\n",
       "tolls_amount             float64\n",
       "improvement_surcharge    float64\n",
       "total_amount             float64\n",
       "congestion_surcharge     float64\n",
       "dtype: object"
      ]
     },
     "execution_count": 9,
     "metadata": {},
     "output_type": "execute_result"
    }
   ],
   "source": [
    "df_taxi.dtypes"
   ]
  },
  {
   "cell_type": "code",
   "execution_count": 10,
   "metadata": {},
   "outputs": [
    {
     "data": {
      "text/html": [
       "<div>\n",
       "<style scoped>\n",
       "    .dataframe tbody tr th:only-of-type {\n",
       "        vertical-align: middle;\n",
       "    }\n",
       "\n",
       "    .dataframe tbody tr th {\n",
       "        vertical-align: top;\n",
       "    }\n",
       "\n",
       "    .dataframe thead th {\n",
       "        text-align: right;\n",
       "    }\n",
       "</style>\n",
       "<table border=\"1\" class=\"dataframe\">\n",
       "  <thead>\n",
       "    <tr style=\"text-align: right;\">\n",
       "      <th></th>\n",
       "      <th>count</th>\n",
       "      <th>mean</th>\n",
       "      <th>std</th>\n",
       "      <th>min</th>\n",
       "      <th>25%</th>\n",
       "      <th>50%</th>\n",
       "      <th>75%</th>\n",
       "      <th>max</th>\n",
       "    </tr>\n",
       "  </thead>\n",
       "  <tbody>\n",
       "    <tr>\n",
       "      <th>VendorID</th>\n",
       "      <td>42706377.0</td>\n",
       "      <td>1.644342</td>\n",
       "      <td>0.501307</td>\n",
       "      <td>1.00</td>\n",
       "      <td>1.00</td>\n",
       "      <td>2.00</td>\n",
       "      <td>2.00</td>\n",
       "      <td>4.00</td>\n",
       "    </tr>\n",
       "    <tr>\n",
       "      <th>passenger_count</th>\n",
       "      <td>42706377.0</td>\n",
       "      <td>1.562970</td>\n",
       "      <td>1.210514</td>\n",
       "      <td>0.00</td>\n",
       "      <td>1.00</td>\n",
       "      <td>1.00</td>\n",
       "      <td>2.00</td>\n",
       "      <td>9.00</td>\n",
       "    </tr>\n",
       "    <tr>\n",
       "      <th>trip_distance</th>\n",
       "      <td>42821916.0</td>\n",
       "      <td>2.986702</td>\n",
       "      <td>4.856197</td>\n",
       "      <td>-18739.24</td>\n",
       "      <td>0.97</td>\n",
       "      <td>1.61</td>\n",
       "      <td>3.02</td>\n",
       "      <td>831.80</td>\n",
       "    </tr>\n",
       "    <tr>\n",
       "      <th>RatecodeID</th>\n",
       "      <td>42706377.0</td>\n",
       "      <td>1.061002</td>\n",
       "      <td>0.742314</td>\n",
       "      <td>1.00</td>\n",
       "      <td>1.00</td>\n",
       "      <td>1.00</td>\n",
       "      <td>1.00</td>\n",
       "      <td>99.00</td>\n",
       "    </tr>\n",
       "    <tr>\n",
       "      <th>PULocationID</th>\n",
       "      <td>42821916.0</td>\n",
       "      <td>163.280894</td>\n",
       "      <td>66.043385</td>\n",
       "      <td>1.00</td>\n",
       "      <td>116.00</td>\n",
       "      <td>162.00</td>\n",
       "      <td>233.00</td>\n",
       "      <td>265.00</td>\n",
       "    </tr>\n",
       "    <tr>\n",
       "      <th>DOLocationID</th>\n",
       "      <td>42821916.0</td>\n",
       "      <td>161.517654</td>\n",
       "      <td>70.257471</td>\n",
       "      <td>1.00</td>\n",
       "      <td>107.00</td>\n",
       "      <td>162.00</td>\n",
       "      <td>233.00</td>\n",
       "      <td>265.00</td>\n",
       "    </tr>\n",
       "    <tr>\n",
       "      <th>payment_type</th>\n",
       "      <td>42706377.0</td>\n",
       "      <td>1.288448</td>\n",
       "      <td>0.477927</td>\n",
       "      <td>1.00</td>\n",
       "      <td>1.00</td>\n",
       "      <td>1.00</td>\n",
       "      <td>2.00</td>\n",
       "      <td>5.00</td>\n",
       "    </tr>\n",
       "    <tr>\n",
       "      <th>fare_amount</th>\n",
       "      <td>42821916.0</td>\n",
       "      <td>13.278955</td>\n",
       "      <td>186.922325</td>\n",
       "      <td>-530.00</td>\n",
       "      <td>6.50</td>\n",
       "      <td>9.50</td>\n",
       "      <td>14.50</td>\n",
       "      <td>943274.80</td>\n",
       "    </tr>\n",
       "    <tr>\n",
       "      <th>extra</th>\n",
       "      <td>42821916.0</td>\n",
       "      <td>1.015128</td>\n",
       "      <td>1.219016</td>\n",
       "      <td>-60.00</td>\n",
       "      <td>0.00</td>\n",
       "      <td>0.50</td>\n",
       "      <td>2.50</td>\n",
       "      <td>535.38</td>\n",
       "    </tr>\n",
       "    <tr>\n",
       "      <th>mta_tax</th>\n",
       "      <td>42821916.0</td>\n",
       "      <td>0.494820</td>\n",
       "      <td>0.063083</td>\n",
       "      <td>-0.50</td>\n",
       "      <td>0.50</td>\n",
       "      <td>0.50</td>\n",
       "      <td>0.50</td>\n",
       "      <td>75.00</td>\n",
       "    </tr>\n",
       "    <tr>\n",
       "      <th>tip_amount</th>\n",
       "      <td>42821916.0</td>\n",
       "      <td>2.167272</td>\n",
       "      <td>21.801100</td>\n",
       "      <td>-221.00</td>\n",
       "      <td>0.00</td>\n",
       "      <td>1.78</td>\n",
       "      <td>2.86</td>\n",
       "      <td>141492.02</td>\n",
       "    </tr>\n",
       "    <tr>\n",
       "      <th>tolls_amount</th>\n",
       "      <td>42821916.0</td>\n",
       "      <td>0.377244</td>\n",
       "      <td>1.839576</td>\n",
       "      <td>-70.00</td>\n",
       "      <td>0.00</td>\n",
       "      <td>0.00</td>\n",
       "      <td>0.00</td>\n",
       "      <td>3288.00</td>\n",
       "    </tr>\n",
       "    <tr>\n",
       "      <th>improvement_surcharge</th>\n",
       "      <td>42821916.0</td>\n",
       "      <td>0.298692</td>\n",
       "      <td>0.026992</td>\n",
       "      <td>-0.30</td>\n",
       "      <td>0.30</td>\n",
       "      <td>0.30</td>\n",
       "      <td>0.30</td>\n",
       "      <td>1.00</td>\n",
       "    </tr>\n",
       "    <tr>\n",
       "      <th>total_amount</th>\n",
       "      <td>42821916.0</td>\n",
       "      <td>18.831406</td>\n",
       "      <td>204.270166</td>\n",
       "      <td>-530.80</td>\n",
       "      <td>10.80</td>\n",
       "      <td>14.16</td>\n",
       "      <td>20.30</td>\n",
       "      <td>1084772.17</td>\n",
       "    </tr>\n",
       "    <tr>\n",
       "      <th>congestion_surcharge</th>\n",
       "      <td>37965935.0</td>\n",
       "      <td>2.109704</td>\n",
       "      <td>0.917122</td>\n",
       "      <td>-2.50</td>\n",
       "      <td>2.50</td>\n",
       "      <td>2.50</td>\n",
       "      <td>2.50</td>\n",
       "      <td>4.50</td>\n",
       "    </tr>\n",
       "  </tbody>\n",
       "</table>\n",
       "</div>"
      ],
      "text/plain": [
       "                            count        mean         std       min     25%  \\\n",
       "VendorID               42706377.0    1.644342    0.501307      1.00    1.00   \n",
       "passenger_count        42706377.0    1.562970    1.210514      0.00    1.00   \n",
       "trip_distance          42821916.0    2.986702    4.856197 -18739.24    0.97   \n",
       "RatecodeID             42706377.0    1.061002    0.742314      1.00    1.00   \n",
       "PULocationID           42821916.0  163.280894   66.043385      1.00  116.00   \n",
       "DOLocationID           42821916.0  161.517654   70.257471      1.00  107.00   \n",
       "payment_type           42706377.0    1.288448    0.477927      1.00    1.00   \n",
       "fare_amount            42821916.0   13.278955  186.922325   -530.00    6.50   \n",
       "extra                  42821916.0    1.015128    1.219016    -60.00    0.00   \n",
       "mta_tax                42821916.0    0.494820    0.063083     -0.50    0.50   \n",
       "tip_amount             42821916.0    2.167272   21.801100   -221.00    0.00   \n",
       "tolls_amount           42821916.0    0.377244    1.839576    -70.00    0.00   \n",
       "improvement_surcharge  42821916.0    0.298692    0.026992     -0.30    0.30   \n",
       "total_amount           42821916.0   18.831406  204.270166   -530.80   10.80   \n",
       "congestion_surcharge   37965935.0    2.109704    0.917122     -2.50    2.50   \n",
       "\n",
       "                          50%     75%         max  \n",
       "VendorID                 2.00    2.00        4.00  \n",
       "passenger_count          1.00    2.00        9.00  \n",
       "trip_distance            1.61    3.02      831.80  \n",
       "RatecodeID               1.00    1.00       99.00  \n",
       "PULocationID           162.00  233.00      265.00  \n",
       "DOLocationID           162.00  233.00      265.00  \n",
       "payment_type             1.00    2.00        5.00  \n",
       "fare_amount              9.50   14.50   943274.80  \n",
       "extra                    0.50    2.50      535.38  \n",
       "mta_tax                  0.50    0.50       75.00  \n",
       "tip_amount               1.78    2.86   141492.02  \n",
       "tolls_amount             0.00    0.00     3288.00  \n",
       "improvement_surcharge    0.30    0.30        1.00  \n",
       "total_amount            14.16   20.30  1084772.17  \n",
       "congestion_surcharge     2.50    2.50        4.50  "
      ]
     },
     "execution_count": 10,
     "metadata": {},
     "output_type": "execute_result"
    }
   ],
   "source": [
    "# from the below describtion we notice that there are unlogical (-ve values), missing values and outliers which needs cleaning\n",
    "df_taxi.describe().transpose()"
   ]
  },
  {
   "cell_type": "markdown",
   "metadata": {},
   "source": [
    "### Count missing data per feature"
   ]
  },
  {
   "cell_type": "code",
   "execution_count": 8,
   "metadata": {},
   "outputs": [
    {
     "data": {
      "text/html": [
       "<div>\n",
       "<style scoped>\n",
       "    .dataframe tbody tr th:only-of-type {\n",
       "        vertical-align: middle;\n",
       "    }\n",
       "\n",
       "    .dataframe tbody tr th {\n",
       "        vertical-align: top;\n",
       "    }\n",
       "\n",
       "    .dataframe thead th {\n",
       "        text-align: right;\n",
       "    }\n",
       "</style>\n",
       "<table border=\"1\" class=\"dataframe\">\n",
       "  <thead>\n",
       "    <tr style=\"text-align: right;\">\n",
       "      <th></th>\n",
       "      <th>Total</th>\n",
       "      <th>Percent</th>\n",
       "    </tr>\n",
       "  </thead>\n",
       "  <tbody>\n",
       "    <tr>\n",
       "      <td>VendorID</td>\n",
       "      <td>115539</td>\n",
       "      <td>0.002698</td>\n",
       "    </tr>\n",
       "    <tr>\n",
       "      <td>tpep_pickup_datetime</td>\n",
       "      <td>0</td>\n",
       "      <td>0.000000</td>\n",
       "    </tr>\n",
       "    <tr>\n",
       "      <td>tpep_dropoff_datetime</td>\n",
       "      <td>0</td>\n",
       "      <td>0.000000</td>\n",
       "    </tr>\n",
       "    <tr>\n",
       "      <td>passenger_count</td>\n",
       "      <td>115539</td>\n",
       "      <td>0.002698</td>\n",
       "    </tr>\n",
       "    <tr>\n",
       "      <td>trip_distance</td>\n",
       "      <td>0</td>\n",
       "      <td>0.000000</td>\n",
       "    </tr>\n",
       "    <tr>\n",
       "      <td>RatecodeID</td>\n",
       "      <td>115539</td>\n",
       "      <td>0.002698</td>\n",
       "    </tr>\n",
       "    <tr>\n",
       "      <td>store_and_fwd_flag</td>\n",
       "      <td>115539</td>\n",
       "      <td>0.002698</td>\n",
       "    </tr>\n",
       "    <tr>\n",
       "      <td>PULocationID</td>\n",
       "      <td>0</td>\n",
       "      <td>0.000000</td>\n",
       "    </tr>\n",
       "    <tr>\n",
       "      <td>DOLocationID</td>\n",
       "      <td>0</td>\n",
       "      <td>0.000000</td>\n",
       "    </tr>\n",
       "    <tr>\n",
       "      <td>payment_type</td>\n",
       "      <td>115539</td>\n",
       "      <td>0.002698</td>\n",
       "    </tr>\n",
       "    <tr>\n",
       "      <td>fare_amount</td>\n",
       "      <td>0</td>\n",
       "      <td>0.000000</td>\n",
       "    </tr>\n",
       "    <tr>\n",
       "      <td>extra</td>\n",
       "      <td>0</td>\n",
       "      <td>0.000000</td>\n",
       "    </tr>\n",
       "    <tr>\n",
       "      <td>mta_tax</td>\n",
       "      <td>0</td>\n",
       "      <td>0.000000</td>\n",
       "    </tr>\n",
       "    <tr>\n",
       "      <td>tip_amount</td>\n",
       "      <td>0</td>\n",
       "      <td>0.000000</td>\n",
       "    </tr>\n",
       "    <tr>\n",
       "      <td>tolls_amount</td>\n",
       "      <td>0</td>\n",
       "      <td>0.000000</td>\n",
       "    </tr>\n",
       "    <tr>\n",
       "      <td>improvement_surcharge</td>\n",
       "      <td>0</td>\n",
       "      <td>0.000000</td>\n",
       "    </tr>\n",
       "    <tr>\n",
       "      <td>total_amount</td>\n",
       "      <td>0</td>\n",
       "      <td>0.000000</td>\n",
       "    </tr>\n",
       "    <tr>\n",
       "      <td>congestion_surcharge</td>\n",
       "      <td>4855981</td>\n",
       "      <td>0.113399</td>\n",
       "    </tr>\n",
       "  </tbody>\n",
       "</table>\n",
       "</div>"
      ],
      "text/plain": [
       "                         Total   Percent\n",
       "VendorID                115539  0.002698\n",
       "tpep_pickup_datetime         0  0.000000\n",
       "tpep_dropoff_datetime        0  0.000000\n",
       "passenger_count         115539  0.002698\n",
       "trip_distance                0  0.000000\n",
       "RatecodeID              115539  0.002698\n",
       "store_and_fwd_flag      115539  0.002698\n",
       "PULocationID                 0  0.000000\n",
       "DOLocationID                 0  0.000000\n",
       "payment_type            115539  0.002698\n",
       "fare_amount                  0  0.000000\n",
       "extra                        0  0.000000\n",
       "mta_tax                      0  0.000000\n",
       "tip_amount                   0  0.000000\n",
       "tolls_amount                 0  0.000000\n",
       "improvement_surcharge        0  0.000000\n",
       "total_amount                 0  0.000000\n",
       "congestion_surcharge   4855981  0.113399"
      ]
     },
     "execution_count": 8,
     "metadata": {},
     "output_type": "execute_result"
    }
   ],
   "source": [
    "total = df_taxi.isnull().sum()\n",
    "percent = (df_taxi.isnull().sum()/df_taxi.isnull().count())\n",
    "missing_data = pd.concat([total, percent], axis=1, keys=['Total', 'Percent'])\n",
    "missing_data.head(100)"
   ]
  },
  {
   "cell_type": "markdown",
   "metadata": {},
   "source": [
    "## Feature Engineering:\n",
    "### Extract the engineered features from pickup and dropoff times and then drop these two columns"
   ]
  },
  {
   "cell_type": "code",
   "execution_count": 8,
   "metadata": {},
   "outputs": [],
   "source": [
    "from pandas.tseries.holiday import USFederalHolidayCalendar as calendar\n",
    "\n",
    "df_taxi['tpep_pickup_datetime'] = pd.to_datetime(df_taxi['tpep_pickup_datetime'])\n",
    "df_taxi['tpep_dropoff_datetime'] = pd.to_datetime(df_taxi['tpep_dropoff_datetime'])\n",
    "df_taxi['tripduration_mins'] = ((df_taxi['tpep_dropoff_datetime'] - df_taxi['tpep_pickup_datetime']).dt.total_seconds()/60).astype(float)\n",
    "\n",
    "df_taxi['year'] = pd.DatetimeIndex(df_taxi['tpep_pickup_datetime']).year\n",
    "df_taxi['month'] = pd.DatetimeIndex(df_taxi['tpep_pickup_datetime']).month\n",
    "df_taxi['day'] = pd.DatetimeIndex(df_taxi['tpep_pickup_datetime']).day\n",
    "df_taxi['hour'] = pd.DatetimeIndex(df_taxi['tpep_pickup_datetime']).hour\n",
    "df_taxi['dayofweek'] = pd.DatetimeIndex(df_taxi['tpep_pickup_datetime']).dayofweek\n",
    "df_taxi['weekendflag'] = (df_taxi['dayofweek']>=5).astype(int)\n",
    "\n",
    "cal = calendar()\n",
    "holidays = cal.holidays(start=df_taxi['tpep_pickup_datetime'].min(), end=df_taxi['tpep_pickup_datetime'].max())\n",
    "df_taxi['holidayflag'] = (df_taxi['tpep_pickup_datetime'].isin(holidays)).astype(int)\n",
    "del holidays\n",
    "\n",
    "df_taxi.drop(['tpep_pickup_datetime', 'tpep_dropoff_datetime'], axis=1, inplace=True)"
   ]
  },
  {
   "cell_type": "code",
   "execution_count": 10,
   "metadata": {},
   "outputs": [
    {
     "data": {
      "text/html": [
       "<div>\n",
       "<style scoped>\n",
       "    .dataframe tbody tr th:only-of-type {\n",
       "        vertical-align: middle;\n",
       "    }\n",
       "\n",
       "    .dataframe tbody tr th {\n",
       "        vertical-align: top;\n",
       "    }\n",
       "\n",
       "    .dataframe thead th {\n",
       "        text-align: right;\n",
       "    }\n",
       "</style>\n",
       "<table border=\"1\" class=\"dataframe\">\n",
       "  <thead>\n",
       "    <tr style=\"text-align: right;\">\n",
       "      <th></th>\n",
       "      <th>VendorID</th>\n",
       "      <th>passenger_count</th>\n",
       "      <th>trip_distance</th>\n",
       "      <th>RatecodeID</th>\n",
       "      <th>store_and_fwd_flag</th>\n",
       "      <th>PULocationID</th>\n",
       "      <th>DOLocationID</th>\n",
       "      <th>payment_type</th>\n",
       "      <th>fare_amount</th>\n",
       "      <th>extra</th>\n",
       "      <th>...</th>\n",
       "      <th>total_amount</th>\n",
       "      <th>congestion_surcharge</th>\n",
       "      <th>tripduration_mins</th>\n",
       "      <th>year</th>\n",
       "      <th>month</th>\n",
       "      <th>day</th>\n",
       "      <th>hour</th>\n",
       "      <th>dayofweek</th>\n",
       "      <th>weekendflag</th>\n",
       "      <th>holidayflag</th>\n",
       "    </tr>\n",
       "  </thead>\n",
       "  <tbody>\n",
       "    <tr>\n",
       "      <th>0</th>\n",
       "      <td>1.0</td>\n",
       "      <td>1.0</td>\n",
       "      <td>1.5</td>\n",
       "      <td>1.0</td>\n",
       "      <td>N</td>\n",
       "      <td>151</td>\n",
       "      <td>239</td>\n",
       "      <td>1.0</td>\n",
       "      <td>7.0</td>\n",
       "      <td>0.5</td>\n",
       "      <td>...</td>\n",
       "      <td>9.95</td>\n",
       "      <td>NaN</td>\n",
       "      <td>6.666667</td>\n",
       "      <td>2019</td>\n",
       "      <td>1</td>\n",
       "      <td>1</td>\n",
       "      <td>0</td>\n",
       "      <td>1</td>\n",
       "      <td>0</td>\n",
       "      <td>0</td>\n",
       "    </tr>\n",
       "    <tr>\n",
       "      <th>1</th>\n",
       "      <td>1.0</td>\n",
       "      <td>1.0</td>\n",
       "      <td>2.6</td>\n",
       "      <td>1.0</td>\n",
       "      <td>N</td>\n",
       "      <td>239</td>\n",
       "      <td>246</td>\n",
       "      <td>1.0</td>\n",
       "      <td>14.0</td>\n",
       "      <td>0.5</td>\n",
       "      <td>...</td>\n",
       "      <td>16.30</td>\n",
       "      <td>NaN</td>\n",
       "      <td>19.200000</td>\n",
       "      <td>2019</td>\n",
       "      <td>1</td>\n",
       "      <td>1</td>\n",
       "      <td>0</td>\n",
       "      <td>1</td>\n",
       "      <td>0</td>\n",
       "      <td>0</td>\n",
       "    </tr>\n",
       "    <tr>\n",
       "      <th>2</th>\n",
       "      <td>2.0</td>\n",
       "      <td>3.0</td>\n",
       "      <td>0.0</td>\n",
       "      <td>1.0</td>\n",
       "      <td>N</td>\n",
       "      <td>236</td>\n",
       "      <td>236</td>\n",
       "      <td>1.0</td>\n",
       "      <td>4.5</td>\n",
       "      <td>0.5</td>\n",
       "      <td>...</td>\n",
       "      <td>5.80</td>\n",
       "      <td>NaN</td>\n",
       "      <td>4.166667</td>\n",
       "      <td>2018</td>\n",
       "      <td>12</td>\n",
       "      <td>21</td>\n",
       "      <td>13</td>\n",
       "      <td>4</td>\n",
       "      <td>0</td>\n",
       "      <td>0</td>\n",
       "    </tr>\n",
       "    <tr>\n",
       "      <th>3</th>\n",
       "      <td>2.0</td>\n",
       "      <td>5.0</td>\n",
       "      <td>0.0</td>\n",
       "      <td>1.0</td>\n",
       "      <td>N</td>\n",
       "      <td>193</td>\n",
       "      <td>193</td>\n",
       "      <td>2.0</td>\n",
       "      <td>3.5</td>\n",
       "      <td>0.5</td>\n",
       "      <td>...</td>\n",
       "      <td>7.55</td>\n",
       "      <td>NaN</td>\n",
       "      <td>3.333333</td>\n",
       "      <td>2018</td>\n",
       "      <td>11</td>\n",
       "      <td>28</td>\n",
       "      <td>15</td>\n",
       "      <td>2</td>\n",
       "      <td>0</td>\n",
       "      <td>0</td>\n",
       "    </tr>\n",
       "    <tr>\n",
       "      <th>4</th>\n",
       "      <td>2.0</td>\n",
       "      <td>5.0</td>\n",
       "      <td>0.0</td>\n",
       "      <td>2.0</td>\n",
       "      <td>N</td>\n",
       "      <td>193</td>\n",
       "      <td>193</td>\n",
       "      <td>2.0</td>\n",
       "      <td>52.0</td>\n",
       "      <td>0.0</td>\n",
       "      <td>...</td>\n",
       "      <td>55.55</td>\n",
       "      <td>NaN</td>\n",
       "      <td>1.600000</td>\n",
       "      <td>2018</td>\n",
       "      <td>11</td>\n",
       "      <td>28</td>\n",
       "      <td>15</td>\n",
       "      <td>2</td>\n",
       "      <td>0</td>\n",
       "      <td>0</td>\n",
       "    </tr>\n",
       "  </tbody>\n",
       "</table>\n",
       "<p>5 rows × 24 columns</p>\n",
       "</div>"
      ],
      "text/plain": [
       "   VendorID  passenger_count  trip_distance  RatecodeID store_and_fwd_flag  \\\n",
       "0       1.0              1.0            1.5         1.0                  N   \n",
       "1       1.0              1.0            2.6         1.0                  N   \n",
       "2       2.0              3.0            0.0         1.0                  N   \n",
       "3       2.0              5.0            0.0         1.0                  N   \n",
       "4       2.0              5.0            0.0         2.0                  N   \n",
       "\n",
       "   PULocationID  DOLocationID  payment_type  fare_amount  extra  ...  \\\n",
       "0           151           239           1.0          7.0    0.5  ...   \n",
       "1           239           246           1.0         14.0    0.5  ...   \n",
       "2           236           236           1.0          4.5    0.5  ...   \n",
       "3           193           193           2.0          3.5    0.5  ...   \n",
       "4           193           193           2.0         52.0    0.0  ...   \n",
       "\n",
       "   total_amount  congestion_surcharge  tripduration_mins  year  month  day  \\\n",
       "0          9.95                   NaN           6.666667  2019      1    1   \n",
       "1         16.30                   NaN          19.200000  2019      1    1   \n",
       "2          5.80                   NaN           4.166667  2018     12   21   \n",
       "3          7.55                   NaN           3.333333  2018     11   28   \n",
       "4         55.55                   NaN           1.600000  2018     11   28   \n",
       "\n",
       "   hour  dayofweek  weekendflag  holidayflag  \n",
       "0     0          1            0            0  \n",
       "1     0          1            0            0  \n",
       "2    13          4            0            0  \n",
       "3    15          2            0            0  \n",
       "4    15          2            0            0  \n",
       "\n",
       "[5 rows x 24 columns]"
      ]
     },
     "execution_count": 10,
     "metadata": {},
     "output_type": "execute_result"
    }
   ],
   "source": [
    "df_taxi.head()"
   ]
  },
  {
   "cell_type": "code",
   "execution_count": 7,
   "metadata": {},
   "outputs": [],
   "source": [
    "#Save the output into new file to avoid recalculation\n",
    "#df_taxi.to_csv('C:\\\\Users\\\\tayat\\\\Documents\\\\Capstone Project\\\\NYC Dataset\\\\taxi_engineered.csv', index = False)\n",
    "#df_taxi = pd.read_csv('C:\\\\Users\\\\tayat\\\\Documents\\\\Capstone Project\\\\NYC Dataset\\\\taxi_engineered.csv')"
   ]
  },
  {
   "cell_type": "code",
   "execution_count": 11,
   "metadata": {},
   "outputs": [
    {
     "data": {
      "text/plain": [
       "VendorID                 float64\n",
       "passenger_count          float64\n",
       "trip_distance            float64\n",
       "RatecodeID               float64\n",
       "store_and_fwd_flag        object\n",
       "PULocationID               int64\n",
       "DOLocationID               int64\n",
       "payment_type             float64\n",
       "fare_amount              float64\n",
       "extra                    float64\n",
       "mta_tax                  float64\n",
       "tip_amount               float64\n",
       "tolls_amount             float64\n",
       "improvement_surcharge    float64\n",
       "total_amount             float64\n",
       "congestion_surcharge     float64\n",
       "tripduration_mins        float64\n",
       "year                       int64\n",
       "month                      int64\n",
       "day                        int64\n",
       "hour                       int64\n",
       "dayofweek                  int64\n",
       "weekendflag                int32\n",
       "holidayflag                int32\n",
       "dtype: object"
      ]
     },
     "execution_count": 11,
     "metadata": {},
     "output_type": "execute_result"
    }
   ],
   "source": [
    "df_taxi.dtypes"
   ]
  },
  {
   "cell_type": "code",
   "execution_count": 12,
   "metadata": {},
   "outputs": [
    {
     "data": {
      "text/html": [
       "<div>\n",
       "<style scoped>\n",
       "    .dataframe tbody tr th:only-of-type {\n",
       "        vertical-align: middle;\n",
       "    }\n",
       "\n",
       "    .dataframe tbody tr th {\n",
       "        vertical-align: top;\n",
       "    }\n",
       "\n",
       "    .dataframe thead th {\n",
       "        text-align: right;\n",
       "    }\n",
       "</style>\n",
       "<table border=\"1\" class=\"dataframe\">\n",
       "  <thead>\n",
       "    <tr style=\"text-align: right;\">\n",
       "      <th></th>\n",
       "      <th>count</th>\n",
       "      <th>mean</th>\n",
       "      <th>std</th>\n",
       "      <th>min</th>\n",
       "      <th>25%</th>\n",
       "      <th>50%</th>\n",
       "      <th>75%</th>\n",
       "      <th>max</th>\n",
       "    </tr>\n",
       "  </thead>\n",
       "  <tbody>\n",
       "    <tr>\n",
       "      <th>VendorID</th>\n",
       "      <td>42706377.0</td>\n",
       "      <td>1.644342e+00</td>\n",
       "      <td>0.501307</td>\n",
       "      <td>1.000000</td>\n",
       "      <td>1.00</td>\n",
       "      <td>2.00</td>\n",
       "      <td>2.00</td>\n",
       "      <td>4.000000e+00</td>\n",
       "    </tr>\n",
       "    <tr>\n",
       "      <th>passenger_count</th>\n",
       "      <td>42706377.0</td>\n",
       "      <td>1.562970e+00</td>\n",
       "      <td>1.210514</td>\n",
       "      <td>0.000000</td>\n",
       "      <td>1.00</td>\n",
       "      <td>1.00</td>\n",
       "      <td>2.00</td>\n",
       "      <td>9.000000e+00</td>\n",
       "    </tr>\n",
       "    <tr>\n",
       "      <th>trip_distance</th>\n",
       "      <td>42821916.0</td>\n",
       "      <td>2.986702e+00</td>\n",
       "      <td>4.856197</td>\n",
       "      <td>-18739.240000</td>\n",
       "      <td>0.97</td>\n",
       "      <td>1.61</td>\n",
       "      <td>3.02</td>\n",
       "      <td>8.318000e+02</td>\n",
       "    </tr>\n",
       "    <tr>\n",
       "      <th>RatecodeID</th>\n",
       "      <td>42706377.0</td>\n",
       "      <td>1.061002e+00</td>\n",
       "      <td>0.742314</td>\n",
       "      <td>1.000000</td>\n",
       "      <td>1.00</td>\n",
       "      <td>1.00</td>\n",
       "      <td>1.00</td>\n",
       "      <td>9.900000e+01</td>\n",
       "    </tr>\n",
       "    <tr>\n",
       "      <th>PULocationID</th>\n",
       "      <td>42821916.0</td>\n",
       "      <td>1.632809e+02</td>\n",
       "      <td>66.043385</td>\n",
       "      <td>1.000000</td>\n",
       "      <td>116.00</td>\n",
       "      <td>162.00</td>\n",
       "      <td>233.00</td>\n",
       "      <td>2.650000e+02</td>\n",
       "    </tr>\n",
       "    <tr>\n",
       "      <th>DOLocationID</th>\n",
       "      <td>42821916.0</td>\n",
       "      <td>1.615177e+02</td>\n",
       "      <td>70.257471</td>\n",
       "      <td>1.000000</td>\n",
       "      <td>107.00</td>\n",
       "      <td>162.00</td>\n",
       "      <td>233.00</td>\n",
       "      <td>2.650000e+02</td>\n",
       "    </tr>\n",
       "    <tr>\n",
       "      <th>payment_type</th>\n",
       "      <td>42706377.0</td>\n",
       "      <td>1.288448e+00</td>\n",
       "      <td>0.477927</td>\n",
       "      <td>1.000000</td>\n",
       "      <td>1.00</td>\n",
       "      <td>1.00</td>\n",
       "      <td>2.00</td>\n",
       "      <td>5.000000e+00</td>\n",
       "    </tr>\n",
       "    <tr>\n",
       "      <th>fare_amount</th>\n",
       "      <td>42821916.0</td>\n",
       "      <td>1.327895e+01</td>\n",
       "      <td>186.922325</td>\n",
       "      <td>-530.000000</td>\n",
       "      <td>6.50</td>\n",
       "      <td>9.50</td>\n",
       "      <td>14.50</td>\n",
       "      <td>9.432748e+05</td>\n",
       "    </tr>\n",
       "    <tr>\n",
       "      <th>extra</th>\n",
       "      <td>42821916.0</td>\n",
       "      <td>1.015128e+00</td>\n",
       "      <td>1.219016</td>\n",
       "      <td>-60.000000</td>\n",
       "      <td>0.00</td>\n",
       "      <td>0.50</td>\n",
       "      <td>2.50</td>\n",
       "      <td>5.353800e+02</td>\n",
       "    </tr>\n",
       "    <tr>\n",
       "      <th>mta_tax</th>\n",
       "      <td>42821916.0</td>\n",
       "      <td>4.948197e-01</td>\n",
       "      <td>0.063083</td>\n",
       "      <td>-0.500000</td>\n",
       "      <td>0.50</td>\n",
       "      <td>0.50</td>\n",
       "      <td>0.50</td>\n",
       "      <td>7.500000e+01</td>\n",
       "    </tr>\n",
       "    <tr>\n",
       "      <th>tip_amount</th>\n",
       "      <td>42821916.0</td>\n",
       "      <td>2.167272e+00</td>\n",
       "      <td>21.801100</td>\n",
       "      <td>-221.000000</td>\n",
       "      <td>0.00</td>\n",
       "      <td>1.78</td>\n",
       "      <td>2.86</td>\n",
       "      <td>1.414920e+05</td>\n",
       "    </tr>\n",
       "    <tr>\n",
       "      <th>tolls_amount</th>\n",
       "      <td>42821916.0</td>\n",
       "      <td>3.772435e-01</td>\n",
       "      <td>1.839576</td>\n",
       "      <td>-70.000000</td>\n",
       "      <td>0.00</td>\n",
       "      <td>0.00</td>\n",
       "      <td>0.00</td>\n",
       "      <td>3.288000e+03</td>\n",
       "    </tr>\n",
       "    <tr>\n",
       "      <th>improvement_surcharge</th>\n",
       "      <td>42821916.0</td>\n",
       "      <td>2.986918e-01</td>\n",
       "      <td>0.026992</td>\n",
       "      <td>-0.300000</td>\n",
       "      <td>0.30</td>\n",
       "      <td>0.30</td>\n",
       "      <td>0.30</td>\n",
       "      <td>1.000000e+00</td>\n",
       "    </tr>\n",
       "    <tr>\n",
       "      <th>total_amount</th>\n",
       "      <td>42821916.0</td>\n",
       "      <td>1.883141e+01</td>\n",
       "      <td>204.270166</td>\n",
       "      <td>-530.800000</td>\n",
       "      <td>10.80</td>\n",
       "      <td>14.16</td>\n",
       "      <td>20.30</td>\n",
       "      <td>1.084772e+06</td>\n",
       "    </tr>\n",
       "    <tr>\n",
       "      <th>congestion_surcharge</th>\n",
       "      <td>37965935.0</td>\n",
       "      <td>2.109704e+00</td>\n",
       "      <td>0.917122</td>\n",
       "      <td>-2.500000</td>\n",
       "      <td>2.50</td>\n",
       "      <td>2.50</td>\n",
       "      <td>2.50</td>\n",
       "      <td>4.500000e+00</td>\n",
       "    </tr>\n",
       "    <tr>\n",
       "      <th>tripduration_mins</th>\n",
       "      <td>42821916.0</td>\n",
       "      <td>1.793312e+01</td>\n",
       "      <td>92.348700</td>\n",
       "      <td>-368615.566667</td>\n",
       "      <td>6.65</td>\n",
       "      <td>11.20</td>\n",
       "      <td>18.45</td>\n",
       "      <td>4.364802e+04</td>\n",
       "    </tr>\n",
       "    <tr>\n",
       "      <th>year</th>\n",
       "      <td>42821916.0</td>\n",
       "      <td>2.019000e+03</td>\n",
       "      <td>0.031960</td>\n",
       "      <td>2001.000000</td>\n",
       "      <td>2019.00</td>\n",
       "      <td>2019.00</td>\n",
       "      <td>2019.00</td>\n",
       "      <td>2.088000e+03</td>\n",
       "    </tr>\n",
       "    <tr>\n",
       "      <th>month</th>\n",
       "      <td>42821916.0</td>\n",
       "      <td>5.789934e+00</td>\n",
       "      <td>3.434934</td>\n",
       "      <td>1.000000</td>\n",
       "      <td>3.00</td>\n",
       "      <td>5.00</td>\n",
       "      <td>9.00</td>\n",
       "      <td>1.200000e+01</td>\n",
       "    </tr>\n",
       "    <tr>\n",
       "      <th>day</th>\n",
       "      <td>42821916.0</td>\n",
       "      <td>1.582523e+01</td>\n",
       "      <td>8.723071</td>\n",
       "      <td>1.000000</td>\n",
       "      <td>8.00</td>\n",
       "      <td>16.00</td>\n",
       "      <td>23.00</td>\n",
       "      <td>3.100000e+01</td>\n",
       "    </tr>\n",
       "    <tr>\n",
       "      <th>hour</th>\n",
       "      <td>42821916.0</td>\n",
       "      <td>1.388652e+01</td>\n",
       "      <td>6.018532</td>\n",
       "      <td>0.000000</td>\n",
       "      <td>10.00</td>\n",
       "      <td>15.00</td>\n",
       "      <td>19.00</td>\n",
       "      <td>2.300000e+01</td>\n",
       "    </tr>\n",
       "    <tr>\n",
       "      <th>dayofweek</th>\n",
       "      <td>42821916.0</td>\n",
       "      <td>2.993801e+00</td>\n",
       "      <td>1.924302</td>\n",
       "      <td>0.000000</td>\n",
       "      <td>1.00</td>\n",
       "      <td>3.00</td>\n",
       "      <td>5.00</td>\n",
       "      <td>6.000000e+00</td>\n",
       "    </tr>\n",
       "    <tr>\n",
       "      <th>weekendflag</th>\n",
       "      <td>42821916.0</td>\n",
       "      <td>2.660956e-01</td>\n",
       "      <td>0.441915</td>\n",
       "      <td>0.000000</td>\n",
       "      <td>0.00</td>\n",
       "      <td>0.00</td>\n",
       "      <td>1.00</td>\n",
       "      <td>1.000000e+00</td>\n",
       "    </tr>\n",
       "    <tr>\n",
       "      <th>holidayflag</th>\n",
       "      <td>42821916.0</td>\n",
       "      <td>6.305183e-07</td>\n",
       "      <td>0.000794</td>\n",
       "      <td>0.000000</td>\n",
       "      <td>0.00</td>\n",
       "      <td>0.00</td>\n",
       "      <td>0.00</td>\n",
       "      <td>1.000000e+00</td>\n",
       "    </tr>\n",
       "  </tbody>\n",
       "</table>\n",
       "</div>"
      ],
      "text/plain": [
       "                            count          mean         std            min  \\\n",
       "VendorID               42706377.0  1.644342e+00    0.501307       1.000000   \n",
       "passenger_count        42706377.0  1.562970e+00    1.210514       0.000000   \n",
       "trip_distance          42821916.0  2.986702e+00    4.856197  -18739.240000   \n",
       "RatecodeID             42706377.0  1.061002e+00    0.742314       1.000000   \n",
       "PULocationID           42821916.0  1.632809e+02   66.043385       1.000000   \n",
       "DOLocationID           42821916.0  1.615177e+02   70.257471       1.000000   \n",
       "payment_type           42706377.0  1.288448e+00    0.477927       1.000000   \n",
       "fare_amount            42821916.0  1.327895e+01  186.922325    -530.000000   \n",
       "extra                  42821916.0  1.015128e+00    1.219016     -60.000000   \n",
       "mta_tax                42821916.0  4.948197e-01    0.063083      -0.500000   \n",
       "tip_amount             42821916.0  2.167272e+00   21.801100    -221.000000   \n",
       "tolls_amount           42821916.0  3.772435e-01    1.839576     -70.000000   \n",
       "improvement_surcharge  42821916.0  2.986918e-01    0.026992      -0.300000   \n",
       "total_amount           42821916.0  1.883141e+01  204.270166    -530.800000   \n",
       "congestion_surcharge   37965935.0  2.109704e+00    0.917122      -2.500000   \n",
       "tripduration_mins      42821916.0  1.793312e+01   92.348700 -368615.566667   \n",
       "year                   42821916.0  2.019000e+03    0.031960    2001.000000   \n",
       "month                  42821916.0  5.789934e+00    3.434934       1.000000   \n",
       "day                    42821916.0  1.582523e+01    8.723071       1.000000   \n",
       "hour                   42821916.0  1.388652e+01    6.018532       0.000000   \n",
       "dayofweek              42821916.0  2.993801e+00    1.924302       0.000000   \n",
       "weekendflag            42821916.0  2.660956e-01    0.441915       0.000000   \n",
       "holidayflag            42821916.0  6.305183e-07    0.000794       0.000000   \n",
       "\n",
       "                           25%      50%      75%           max  \n",
       "VendorID                  1.00     2.00     2.00  4.000000e+00  \n",
       "passenger_count           1.00     1.00     2.00  9.000000e+00  \n",
       "trip_distance             0.97     1.61     3.02  8.318000e+02  \n",
       "RatecodeID                1.00     1.00     1.00  9.900000e+01  \n",
       "PULocationID            116.00   162.00   233.00  2.650000e+02  \n",
       "DOLocationID            107.00   162.00   233.00  2.650000e+02  \n",
       "payment_type              1.00     1.00     2.00  5.000000e+00  \n",
       "fare_amount               6.50     9.50    14.50  9.432748e+05  \n",
       "extra                     0.00     0.50     2.50  5.353800e+02  \n",
       "mta_tax                   0.50     0.50     0.50  7.500000e+01  \n",
       "tip_amount                0.00     1.78     2.86  1.414920e+05  \n",
       "tolls_amount              0.00     0.00     0.00  3.288000e+03  \n",
       "improvement_surcharge     0.30     0.30     0.30  1.000000e+00  \n",
       "total_amount             10.80    14.16    20.30  1.084772e+06  \n",
       "congestion_surcharge      2.50     2.50     2.50  4.500000e+00  \n",
       "tripduration_mins         6.65    11.20    18.45  4.364802e+04  \n",
       "year                   2019.00  2019.00  2019.00  2.088000e+03  \n",
       "month                     3.00     5.00     9.00  1.200000e+01  \n",
       "day                       8.00    16.00    23.00  3.100000e+01  \n",
       "hour                     10.00    15.00    19.00  2.300000e+01  \n",
       "dayofweek                 1.00     3.00     5.00  6.000000e+00  \n",
       "weekendflag               0.00     0.00     1.00  1.000000e+00  \n",
       "holidayflag               0.00     0.00     0.00  1.000000e+00  "
      ]
     },
     "execution_count": 12,
     "metadata": {},
     "output_type": "execute_result"
    }
   ],
   "source": [
    "#Have another look after feature engineering\n",
    "df_taxi.describe().transpose()"
   ]
  },
  {
   "cell_type": "markdown",
   "metadata": {},
   "source": [
    "## Data Cleaning:\n",
    "### From the above columns quick overview, we notice some unlogical columns:\n",
    "#### - trip distance, duration, fare, tip, toll...etc with -ve values or very high values\n",
    "#### - unlogical and out of range values like passenger_count above 6, ratecodeID above 6 and so on\n",
    "### let's analyze the ranges and then get rid of these misleading values first"
   ]
  },
  {
   "cell_type": "code",
   "execution_count": 31,
   "metadata": {},
   "outputs": [
    {
     "data": {
      "text/plain": [
       " 0        42819533\n",
       " 50           2228\n",
       " 100           122\n",
       " 150            14\n",
       " 200             9\n",
       " 700             2\n",
       " 300             2\n",
       "-18700           1\n",
       " 800             1\n",
       " 600             1\n",
       " 500             1\n",
       " 400             1\n",
       " 250             1\n",
       "Name: trip_distance, dtype: int64"
      ]
     },
     "execution_count": 31,
     "metadata": {},
     "output_type": "execute_result"
    }
   ],
   "source": [
    "((df_taxi['trip_distance']/50).astype(int)*50).loc[:].value_counts()"
   ]
  },
  {
   "cell_type": "code",
   "execution_count": 37,
   "metadata": {},
   "outputs": [
    {
     "data": {
      "text/plain": [
       " 0          42732661\n",
       " 100           80450\n",
       " 200            6395\n",
       " 300            1397\n",
       " 400             452\n",
       "-100             240\n",
       " 500              81\n",
       " 600              58\n",
       "-200              42\n",
       "-300              26\n",
       " 700              20\n",
       " 900              20\n",
       " 800              12\n",
       "-400               8\n",
       " 1900              4\n",
       " 2700              4\n",
       " 3000              3\n",
       " 1300              3\n",
       " 1100              2\n",
       " 1500              2\n",
       " 6600              2\n",
       " 16000             2\n",
       " 1000              1\n",
       " 623200            1\n",
       " 31100             1\n",
       " 1800              1\n",
       " 34600             1\n",
       "-500               1\n",
       " 33000             1\n",
       " 2200              1\n",
       " 2400              1\n",
       " 30400             1\n",
       " 36000             1\n",
       " 30100             1\n",
       " 18400             1\n",
       " 356200            1\n",
       " 25600             1\n",
       " 25300             1\n",
       " 24200             1\n",
       " 20700             1\n",
       " 151000            1\n",
       " 19800             1\n",
       " 19100             1\n",
       " 17200             1\n",
       " 3300              1\n",
       " 147600            1\n",
       " 10500             1\n",
       " 171800            1\n",
       " 8000              1\n",
       " 6000              1\n",
       " 4000              1\n",
       " 1084700           1\n",
       " 3500              1\n",
       " 3600              1\n",
       "Name: total_amount, dtype: int64"
      ]
     },
     "execution_count": 37,
     "metadata": {},
     "output_type": "execute_result"
    }
   ],
   "source": [
    "((df_taxi['total_amount']/100).astype(int)*100).loc[:].value_counts()"
   ]
  },
  {
   "cell_type": "code",
   "execution_count": 38,
   "metadata": {},
   "outputs": [
    {
     "data": {
      "text/plain": [
       " 0         42782398\n",
       " 100          33625\n",
       " 200           4223\n",
       " 300            932\n",
       " 400            279\n",
       "-100            215\n",
       " 500             52\n",
       "-200             41\n",
       " 600             36\n",
       "-300             23\n",
       " 900             15\n",
       " 700              9\n",
       "-400              9\n",
       " 800              7\n",
       " 2700             4\n",
       " 1900             4\n",
       " 3000             3\n",
       " 1300             3\n",
       " 6600             2\n",
       " 16000            2\n",
       " 1100             2\n",
       " 34600            1\n",
       " 2200             1\n",
       " 1800             1\n",
       " 30400            1\n",
       " 1500             1\n",
       " 2400             1\n",
       " 623200           1\n",
       " 31100            1\n",
       "-500              1\n",
       " 33000            1\n",
       " 1000             1\n",
       " 36000            1\n",
       " 30100            1\n",
       " 3400             1\n",
       " 355600           1\n",
       " 943200           1\n",
       " 25600            1\n",
       " 25300            1\n",
       " 24200            1\n",
       " 20700            1\n",
       " 19800            1\n",
       " 150900           1\n",
       " 19100            1\n",
       " 18400            1\n",
       " 17200            1\n",
       " 147600           1\n",
       " 10500            1\n",
       " 171800           1\n",
       " 8000             1\n",
       " 6000             1\n",
       " 3600             1\n",
       " 4000             1\n",
       "Name: fare_amount, dtype: int64"
      ]
     },
     "execution_count": 38,
     "metadata": {},
     "output_type": "execute_result"
    }
   ],
   "source": [
    "((df_taxi['fare_amount']/100).astype(int)*100).loc[:].value_counts()\n",
    "#exclude -ve and fareamount > 100"
   ]
  },
  {
   "cell_type": "code",
   "execution_count": 43,
   "metadata": {},
   "outputs": [
    {
     "data": {
      "text/plain": [
       " 0      42763191\n",
       " 5         58437\n",
       " 15          219\n",
       " 10           37\n",
       " 85            8\n",
       "-5             7\n",
       " 20            6\n",
       "-35            2\n",
       " 25            2\n",
       "-15            1\n",
       "-30            1\n",
       "-50            1\n",
       "-55            1\n",
       "-60            1\n",
       " 535           1\n",
       " 30            1\n",
       "Name: extra, dtype: int64"
      ]
     },
     "execution_count": 43,
     "metadata": {},
     "output_type": "execute_result"
    }
   ],
   "source": [
    "((df_taxi['extra']/5).astype(int)*5).loc[:].value_counts()\n",
    "#exclude -ve and extra > 5"
   ]
  },
  {
   "cell_type": "code",
   "execution_count": 46,
   "metadata": {},
   "outputs": [
    {
     "data": {
      "text/plain": [
       "0     42821846\n",
       "3           34\n",
       "2           17\n",
       "1            6\n",
       "60           2\n",
       "75           1\n",
       "54           1\n",
       "40           1\n",
       "37           1\n",
       "32           1\n",
       "20           1\n",
       "18           1\n",
       "15           1\n",
       "10           1\n",
       "9            1\n",
       "6            1\n",
       "Name: mta_tax, dtype: int64"
      ]
     },
     "execution_count": 46,
     "metadata": {},
     "output_type": "execute_result"
    }
   ],
   "source": [
    "((df_taxi['mta_tax']).astype(int)).loc[:].value_counts()\n",
    "#exclude -ve and mta_tax > 1"
   ]
  },
  {
   "cell_type": "code",
   "execution_count": 47,
   "metadata": {},
   "outputs": [
    {
     "data": {
      "text/plain": [
       " 0         41655190\n",
       " 10         1116071\n",
       " 20           36353\n",
       " 30            6997\n",
       " 40            2732\n",
       " 50            1800\n",
       " 60             767\n",
       " 70             504\n",
       " 80             419\n",
       " 100            252\n",
       " 90             199\n",
       " 110            109\n",
       " 120             75\n",
       " 150             73\n",
       " 200             52\n",
       " 140             37\n",
       " 130             33\n",
       "-10              33\n",
       " 220             29\n",
       " 170             24\n",
       " 160             17\n",
       " 180             13\n",
       " 190             12\n",
       " 300             11\n",
       " 330             10\n",
       "-20               8\n",
       " 210              8\n",
       " 240              8\n",
       "-80               8\n",
       " 280              7\n",
       " 250              5\n",
       " 350              5\n",
       " 440              4\n",
       "-30               4\n",
       " 290              4\n",
       " 400              4\n",
       "-60               4\n",
       "-40               4\n",
       " 410              3\n",
       " 270              3\n",
       " 230              3\n",
       " 260              3\n",
       " 420              2\n",
       "-70               2\n",
       " 340              2\n",
       " 360              2\n",
       " 380              2\n",
       " 370              1\n",
       " 480              1\n",
       " 490              1\n",
       " 500              1\n",
       " 780              1\n",
       " 141490           1\n",
       "-220              1\n",
       " 310              1\n",
       "-50               1\n",
       "Name: tip_amount, dtype: int64"
      ]
     },
     "execution_count": 47,
     "metadata": {},
     "output_type": "execute_result"
    }
   ],
   "source": [
    "((df_taxi['tip_amount']/10).astype(int)*10).loc[:].value_counts()\n",
    "#exclude -ve and tip_amount > 20"
   ]
  },
  {
   "cell_type": "code",
   "execution_count": 48,
   "metadata": {},
   "outputs": [
    {
     "data": {
      "text/plain": [
       " 0       42678294\n",
       " 10        128480\n",
       " 20         12876\n",
       " 30          1251\n",
       " 40           280\n",
       "-10           177\n",
       " 50           144\n",
       " 60           126\n",
       " 90            80\n",
       " 70            47\n",
       " 80            38\n",
       "-20            27\n",
       " 100           12\n",
       " 120           11\n",
       " 110            9\n",
       " 610            7\n",
       " 600            7\n",
       " 570            5\n",
       "-30             4\n",
       " 500            4\n",
       " 150            3\n",
       " 200            2\n",
       " 190            2\n",
       " 170            2\n",
       " 140            2\n",
       " 130            2\n",
       " 700            2\n",
       " 760            2\n",
       " 800            2\n",
       " 3280           1\n",
       "-70             1\n",
       "-40             1\n",
       " 1550           1\n",
       " 330            1\n",
       " 250            1\n",
       " 920            1\n",
       " 360            1\n",
       " 420            1\n",
       " 510            1\n",
       " 550            1\n",
       " 650            1\n",
       " 740            1\n",
       " 810            1\n",
       " 830            1\n",
       " 900            1\n",
       " 910            1\n",
       " 430            1\n",
       "Name: tolls_amount, dtype: int64"
      ]
     },
     "execution_count": 48,
     "metadata": {},
     "output_type": "execute_result"
    }
   ],
   "source": [
    "((df_taxi['tolls_amount']/10).astype(int)*10).loc[:].value_counts()\n",
    "#exclude -ve and tolls_amount > 30"
   ]
  },
  {
   "cell_type": "code",
   "execution_count": 50,
   "metadata": {},
   "outputs": [
    {
     "data": {
      "text/plain": [
       "0    42821910\n",
       "1           6\n",
       "Name: improvement_surcharge, dtype: int64"
      ]
     },
     "execution_count": 50,
     "metadata": {},
     "output_type": "execute_result"
    }
   ],
   "source": [
    "((df_taxi['improvement_surcharge']).astype(int)).loc[:].value_counts()\n",
    "#exclude -ve and improvement_surcharge > 1"
   ]
  },
  {
   "cell_type": "code",
   "execution_count": 53,
   "metadata": {},
   "outputs": [
    {
     "data": {
      "text/plain": [
       " 0       42300300\n",
       " 1         402971\n",
       " 23        100225\n",
       " 2           4643\n",
       " 22          2809\n",
       " 3           1095\n",
       " 7            826\n",
       " 6            760\n",
       " 9            744\n",
       " 8            724\n",
       " 4            706\n",
       " 5            663\n",
       " 21           626\n",
       " 10           613\n",
       " 16           513\n",
       " 11           497\n",
       " 15           475\n",
       " 12           472\n",
       " 14           462\n",
       " 13           448\n",
       " 17           439\n",
       " 20           312\n",
       " 18           284\n",
       " 19           240\n",
       " 64             4\n",
       " 47             3\n",
       " 24             3\n",
       " 30             3\n",
       " 43             3\n",
       " 44             3\n",
       "-47             3\n",
       " 28             2\n",
       " 33             2\n",
       " 45             2\n",
       "-68             2\n",
       " 100            2\n",
       " 140            2\n",
       " 66             2\n",
       " 46             1\n",
       " 727            1\n",
       " 143            1\n",
       " 457            1\n",
       " 525            1\n",
       " 564            1\n",
       " 696            1\n",
       "-6143           1\n",
       "-1404           1\n",
       "-463            1\n",
       "-286            1\n",
       "-143            1\n",
       "-95             1\n",
       "-51             1\n",
       " 142            1\n",
       " 117            1\n",
       " 119            1\n",
       " 31             1\n",
       " 51             1\n",
       " 52             1\n",
       " 42             1\n",
       " 37             1\n",
       " 36             1\n",
       " 59             1\n",
       " 63             1\n",
       " 50             1\n",
       " 25             1\n",
       " 69             1\n",
       " 70             1\n",
       " 73             1\n",
       " 75             1\n",
       " 116            1\n",
       "-28             1\n",
       "Name: tripduration_mins, dtype: int64"
      ]
     },
     "execution_count": 53,
     "metadata": {},
     "output_type": "execute_result"
    }
   ],
   "source": [
    "((df_taxi['tripduration_mins']/60).astype(int)).loc[:].value_counts()\n",
    "#exclude -ve and tripduration_mins > 180 minute"
   ]
  },
  {
   "cell_type": "code",
   "execution_count": 56,
   "metadata": {},
   "outputs": [
    {
     "data": {
      "text/plain": [
       " 0        42507569\n",
       " 20         308353\n",
       " 40           4729\n",
       " 60            726\n",
       "-20            230\n",
       " 80            154\n",
       " 100            74\n",
       " 120            37\n",
       " 140            16\n",
       " 160             7\n",
       " 200             4\n",
       " 220             4\n",
       " 180             2\n",
       " 300             2\n",
       " 700             2\n",
       "-18720           1\n",
       " 400             1\n",
       " 240             1\n",
       " 260             1\n",
       " 600             1\n",
       " 820             1\n",
       " 540             1\n",
       "Name: trip_distance, dtype: int64"
      ]
     },
     "execution_count": 56,
     "metadata": {},
     "output_type": "execute_result"
    }
   ],
   "source": [
    "((df_taxi['trip_distance']/20).astype(int)*20).loc[:].value_counts()\n",
    "#exclude -ve and trip_distance > 30"
   ]
  },
  {
   "cell_type": "markdown",
   "metadata": {},
   "source": [
    "#### Drop rows with unlogical or out of range values"
   ]
  },
  {
   "cell_type": "code",
   "execution_count": 8,
   "metadata": {},
   "outputs": [],
   "source": [
    "df_taxi.drop(df_taxi[ (df_taxi['VendorID'].isna()) | (df_taxi['fare_amount'] <= 0) | (df_taxi['total_amount'] <= 0) | (df_taxi['tripduration_mins'] <= 0) | (df_taxi['tip_amount'] < 0) | (df_taxi['tolls_amount'] < 0) | (df_taxi['improvement_surcharge'] < 0) | (df_taxi['congestion_surcharge'] < 0) | (df_taxi['trip_distance'] <= 0) | (df_taxi['extra'] < 0) | (df_taxi['mta_tax'] < 0) | (df_taxi['passenger_count'] > 6) | (df_taxi['RatecodeID'] > 6)].index, inplace = True)"
   ]
  },
  {
   "cell_type": "code",
   "execution_count": 59,
   "metadata": {},
   "outputs": [
    {
     "data": {
      "text/plain": [
       "(42256569, 24)"
      ]
     },
     "execution_count": 59,
     "metadata": {},
     "output_type": "execute_result"
    }
   ],
   "source": [
    "df_taxi.shape"
   ]
  },
  {
   "cell_type": "markdown",
   "metadata": {},
   "source": [
    "#### Drop outliers and fill na values"
   ]
  },
  {
   "cell_type": "code",
   "execution_count": 10,
   "metadata": {},
   "outputs": [],
   "source": [
    "df_taxi.drop(df_taxi[ (df_taxi['fare_amount'] > 100) | (df_taxi['tripduration_mins'] > 180) | (df_taxi['tip_amount'] > 20) | (df_taxi['tolls_amount'] > 30) | (df_taxi['extra'] > 5) | (df_taxi['mta_tax'] > 1) | (df_taxi['improvement_surcharge'] > 1) | (df_taxi['trip_distance'] > 30)].index, inplace = True)"
   ]
  },
  {
   "cell_type": "code",
   "execution_count": 11,
   "metadata": {},
   "outputs": [],
   "source": [
    "df_taxi['congestion_surcharge'] = df_taxi['congestion_surcharge'].fillna(0)"
   ]
  },
  {
   "cell_type": "code",
   "execution_count": 12,
   "metadata": {
    "scrolled": true
   },
   "outputs": [
    {
     "data": {
      "text/plain": [
       "(42034864, 24)"
      ]
     },
     "execution_count": 12,
     "metadata": {},
     "output_type": "execute_result"
    }
   ],
   "source": [
    "df_taxi.shape"
   ]
  },
  {
   "cell_type": "markdown",
   "metadata": {},
   "source": [
    "### Save the output into new file to avoid recalculation"
   ]
  },
  {
   "cell_type": "code",
   "execution_count": 6,
   "metadata": {},
   "outputs": [],
   "source": [
    "#Save the output into new file to avoid recalculation\n",
    "#df_taxi.to_csv('C:\\\\Users\\\\tayat\\\\Documents\\\\Capstone Project\\\\NYC Dataset\\\\taxi_clean.csv', index = False)\n",
    "#df_taxi = pd.read_csv('C:\\\\Users\\\\tayat\\\\Documents\\\\Capstone Project\\\\NYC Dataset\\\\taxi_clean.csv')"
   ]
  },
  {
   "cell_type": "markdown",
   "metadata": {},
   "source": [
    "### Continue data exploration and understanding after feature engineering and cleaning done"
   ]
  },
  {
   "cell_type": "code",
   "execution_count": 13,
   "metadata": {},
   "outputs": [
    {
     "data": {
      "text/html": [
       "<div>\n",
       "<style scoped>\n",
       "    .dataframe tbody tr th:only-of-type {\n",
       "        vertical-align: middle;\n",
       "    }\n",
       "\n",
       "    .dataframe tbody tr th {\n",
       "        vertical-align: top;\n",
       "    }\n",
       "\n",
       "    .dataframe thead th {\n",
       "        text-align: right;\n",
       "    }\n",
       "</style>\n",
       "<table border=\"1\" class=\"dataframe\">\n",
       "  <thead>\n",
       "    <tr style=\"text-align: right;\">\n",
       "      <th></th>\n",
       "      <th>count</th>\n",
       "      <th>mean</th>\n",
       "      <th>std</th>\n",
       "      <th>min</th>\n",
       "      <th>25%</th>\n",
       "      <th>50%</th>\n",
       "      <th>75%</th>\n",
       "      <th>max</th>\n",
       "    </tr>\n",
       "  </thead>\n",
       "  <tbody>\n",
       "    <tr>\n",
       "      <th>VendorID</th>\n",
       "      <td>42034864.0</td>\n",
       "      <td>1.644755e+00</td>\n",
       "      <td>0.501342</td>\n",
       "      <td>1.000000</td>\n",
       "      <td>1.000000</td>\n",
       "      <td>2.00</td>\n",
       "      <td>2.000000</td>\n",
       "      <td>4.00</td>\n",
       "    </tr>\n",
       "    <tr>\n",
       "      <th>passenger_count</th>\n",
       "      <td>42034864.0</td>\n",
       "      <td>1.564795e+00</td>\n",
       "      <td>1.212287</td>\n",
       "      <td>0.000000</td>\n",
       "      <td>1.000000</td>\n",
       "      <td>1.00</td>\n",
       "      <td>2.000000</td>\n",
       "      <td>6.00</td>\n",
       "    </tr>\n",
       "    <tr>\n",
       "      <th>trip_distance</th>\n",
       "      <td>42034864.0</td>\n",
       "      <td>2.948185e+00</td>\n",
       "      <td>3.737083</td>\n",
       "      <td>0.010000</td>\n",
       "      <td>1.000000</td>\n",
       "      <td>1.63</td>\n",
       "      <td>3.000000</td>\n",
       "      <td>30.00</td>\n",
       "    </tr>\n",
       "    <tr>\n",
       "      <th>RatecodeID</th>\n",
       "      <td>42034864.0</td>\n",
       "      <td>1.041819e+00</td>\n",
       "      <td>0.289515</td>\n",
       "      <td>1.000000</td>\n",
       "      <td>1.000000</td>\n",
       "      <td>1.00</td>\n",
       "      <td>1.000000</td>\n",
       "      <td>6.00</td>\n",
       "    </tr>\n",
       "    <tr>\n",
       "      <th>PULocationID</th>\n",
       "      <td>42034864.0</td>\n",
       "      <td>1.634075e+02</td>\n",
       "      <td>65.968719</td>\n",
       "      <td>1.000000</td>\n",
       "      <td>116.000000</td>\n",
       "      <td>162.00</td>\n",
       "      <td>233.000000</td>\n",
       "      <td>265.00</td>\n",
       "    </tr>\n",
       "    <tr>\n",
       "      <th>DOLocationID</th>\n",
       "      <td>42034864.0</td>\n",
       "      <td>1.614647e+02</td>\n",
       "      <td>70.085049</td>\n",
       "      <td>1.000000</td>\n",
       "      <td>107.000000</td>\n",
       "      <td>162.00</td>\n",
       "      <td>233.000000</td>\n",
       "      <td>265.00</td>\n",
       "    </tr>\n",
       "    <tr>\n",
       "      <th>payment_type</th>\n",
       "      <td>42034864.0</td>\n",
       "      <td>1.281822e+00</td>\n",
       "      <td>0.465550</td>\n",
       "      <td>1.000000</td>\n",
       "      <td>1.000000</td>\n",
       "      <td>1.00</td>\n",
       "      <td>2.000000</td>\n",
       "      <td>4.00</td>\n",
       "    </tr>\n",
       "    <tr>\n",
       "      <th>fare_amount</th>\n",
       "      <td>42034864.0</td>\n",
       "      <td>1.290257e+01</td>\n",
       "      <td>10.787635</td>\n",
       "      <td>0.010000</td>\n",
       "      <td>6.500000</td>\n",
       "      <td>9.50</td>\n",
       "      <td>14.500000</td>\n",
       "      <td>100.00</td>\n",
       "    </tr>\n",
       "    <tr>\n",
       "      <th>extra</th>\n",
       "      <td>42034864.0</td>\n",
       "      <td>1.011953e+00</td>\n",
       "      <td>1.195033</td>\n",
       "      <td>0.000000</td>\n",
       "      <td>0.000000</td>\n",
       "      <td>0.50</td>\n",
       "      <td>2.500000</td>\n",
       "      <td>5.00</td>\n",
       "    </tr>\n",
       "    <tr>\n",
       "      <th>mta_tax</th>\n",
       "      <td>42034864.0</td>\n",
       "      <td>4.983580e-01</td>\n",
       "      <td>0.028606</td>\n",
       "      <td>0.000000</td>\n",
       "      <td>0.500000</td>\n",
       "      <td>0.50</td>\n",
       "      <td>0.500000</td>\n",
       "      <td>1.00</td>\n",
       "    </tr>\n",
       "    <tr>\n",
       "      <th>tip_amount</th>\n",
       "      <td>42034864.0</td>\n",
       "      <td>2.133827e+00</td>\n",
       "      <td>2.471991</td>\n",
       "      <td>0.000000</td>\n",
       "      <td>0.000000</td>\n",
       "      <td>1.85</td>\n",
       "      <td>2.860000</td>\n",
       "      <td>20.00</td>\n",
       "    </tr>\n",
       "    <tr>\n",
       "      <th>tolls_amount</th>\n",
       "      <td>42034864.0</td>\n",
       "      <td>3.506592e-01</td>\n",
       "      <td>1.516528</td>\n",
       "      <td>0.000000</td>\n",
       "      <td>0.000000</td>\n",
       "      <td>0.00</td>\n",
       "      <td>0.000000</td>\n",
       "      <td>30.00</td>\n",
       "    </tr>\n",
       "    <tr>\n",
       "      <th>improvement_surcharge</th>\n",
       "      <td>42034864.0</td>\n",
       "      <td>2.999724e-01</td>\n",
       "      <td>0.002876</td>\n",
       "      <td>0.000000</td>\n",
       "      <td>0.300000</td>\n",
       "      <td>0.30</td>\n",
       "      <td>0.300000</td>\n",
       "      <td>0.60</td>\n",
       "    </tr>\n",
       "    <tr>\n",
       "      <th>total_amount</th>\n",
       "      <td>42034864.0</td>\n",
       "      <td>1.841375e+01</td>\n",
       "      <td>13.441550</td>\n",
       "      <td>0.310000</td>\n",
       "      <td>10.800000</td>\n",
       "      <td>14.16</td>\n",
       "      <td>20.160000</td>\n",
       "      <td>148.80</td>\n",
       "    </tr>\n",
       "    <tr>\n",
       "      <th>congestion_surcharge</th>\n",
       "      <td>42034864.0</td>\n",
       "      <td>1.893798e+00</td>\n",
       "      <td>1.071453</td>\n",
       "      <td>0.000000</td>\n",
       "      <td>2.500000</td>\n",
       "      <td>2.50</td>\n",
       "      <td>2.500000</td>\n",
       "      <td>2.75</td>\n",
       "    </tr>\n",
       "    <tr>\n",
       "      <th>tripduration_mins</th>\n",
       "      <td>42034864.0</td>\n",
       "      <td>1.432479e+01</td>\n",
       "      <td>11.352704</td>\n",
       "      <td>0.016667</td>\n",
       "      <td>6.716667</td>\n",
       "      <td>11.20</td>\n",
       "      <td>18.283333</td>\n",
       "      <td>180.00</td>\n",
       "    </tr>\n",
       "    <tr>\n",
       "      <th>year</th>\n",
       "      <td>42034864.0</td>\n",
       "      <td>2.019000e+03</td>\n",
       "      <td>0.025463</td>\n",
       "      <td>2002.000000</td>\n",
       "      <td>2019.000000</td>\n",
       "      <td>2019.00</td>\n",
       "      <td>2019.000000</td>\n",
       "      <td>2088.00</td>\n",
       "    </tr>\n",
       "    <tr>\n",
       "      <th>month</th>\n",
       "      <td>42034864.0</td>\n",
       "      <td>5.772036e+00</td>\n",
       "      <td>3.434423</td>\n",
       "      <td>1.000000</td>\n",
       "      <td>3.000000</td>\n",
       "      <td>5.00</td>\n",
       "      <td>9.000000</td>\n",
       "      <td>12.00</td>\n",
       "    </tr>\n",
       "    <tr>\n",
       "      <th>day</th>\n",
       "      <td>42034864.0</td>\n",
       "      <td>1.582639e+01</td>\n",
       "      <td>8.723035</td>\n",
       "      <td>1.000000</td>\n",
       "      <td>8.000000</td>\n",
       "      <td>16.00</td>\n",
       "      <td>23.000000</td>\n",
       "      <td>31.00</td>\n",
       "    </tr>\n",
       "    <tr>\n",
       "      <th>hour</th>\n",
       "      <td>42034864.0</td>\n",
       "      <td>1.389828e+01</td>\n",
       "      <td>6.016970</td>\n",
       "      <td>0.000000</td>\n",
       "      <td>10.000000</td>\n",
       "      <td>15.00</td>\n",
       "      <td>19.000000</td>\n",
       "      <td>23.00</td>\n",
       "    </tr>\n",
       "    <tr>\n",
       "      <th>dayofweek</th>\n",
       "      <td>42034864.0</td>\n",
       "      <td>2.995261e+00</td>\n",
       "      <td>1.923958</td>\n",
       "      <td>0.000000</td>\n",
       "      <td>1.000000</td>\n",
       "      <td>3.00</td>\n",
       "      <td>5.000000</td>\n",
       "      <td>6.00</td>\n",
       "    </tr>\n",
       "    <tr>\n",
       "      <th>weekendflag</th>\n",
       "      <td>42034864.0</td>\n",
       "      <td>2.664366e-01</td>\n",
       "      <td>0.442095</td>\n",
       "      <td>0.000000</td>\n",
       "      <td>0.000000</td>\n",
       "      <td>0.00</td>\n",
       "      <td>1.000000</td>\n",
       "      <td>1.00</td>\n",
       "    </tr>\n",
       "    <tr>\n",
       "      <th>holidayflag</th>\n",
       "      <td>42034864.0</td>\n",
       "      <td>2.854773e-07</td>\n",
       "      <td>0.000534</td>\n",
       "      <td>0.000000</td>\n",
       "      <td>0.000000</td>\n",
       "      <td>0.00</td>\n",
       "      <td>0.000000</td>\n",
       "      <td>1.00</td>\n",
       "    </tr>\n",
       "  </tbody>\n",
       "</table>\n",
       "</div>"
      ],
      "text/plain": [
       "                            count          mean        std          min  \\\n",
       "VendorID               42034864.0  1.644755e+00   0.501342     1.000000   \n",
       "passenger_count        42034864.0  1.564795e+00   1.212287     0.000000   \n",
       "trip_distance          42034864.0  2.948185e+00   3.737083     0.010000   \n",
       "RatecodeID             42034864.0  1.041819e+00   0.289515     1.000000   \n",
       "PULocationID           42034864.0  1.634075e+02  65.968719     1.000000   \n",
       "DOLocationID           42034864.0  1.614647e+02  70.085049     1.000000   \n",
       "payment_type           42034864.0  1.281822e+00   0.465550     1.000000   \n",
       "fare_amount            42034864.0  1.290257e+01  10.787635     0.010000   \n",
       "extra                  42034864.0  1.011953e+00   1.195033     0.000000   \n",
       "mta_tax                42034864.0  4.983580e-01   0.028606     0.000000   \n",
       "tip_amount             42034864.0  2.133827e+00   2.471991     0.000000   \n",
       "tolls_amount           42034864.0  3.506592e-01   1.516528     0.000000   \n",
       "improvement_surcharge  42034864.0  2.999724e-01   0.002876     0.000000   \n",
       "total_amount           42034864.0  1.841375e+01  13.441550     0.310000   \n",
       "congestion_surcharge   42034864.0  1.893798e+00   1.071453     0.000000   \n",
       "tripduration_mins      42034864.0  1.432479e+01  11.352704     0.016667   \n",
       "year                   42034864.0  2.019000e+03   0.025463  2002.000000   \n",
       "month                  42034864.0  5.772036e+00   3.434423     1.000000   \n",
       "day                    42034864.0  1.582639e+01   8.723035     1.000000   \n",
       "hour                   42034864.0  1.389828e+01   6.016970     0.000000   \n",
       "dayofweek              42034864.0  2.995261e+00   1.923958     0.000000   \n",
       "weekendflag            42034864.0  2.664366e-01   0.442095     0.000000   \n",
       "holidayflag            42034864.0  2.854773e-07   0.000534     0.000000   \n",
       "\n",
       "                               25%      50%          75%      max  \n",
       "VendorID                  1.000000     2.00     2.000000     4.00  \n",
       "passenger_count           1.000000     1.00     2.000000     6.00  \n",
       "trip_distance             1.000000     1.63     3.000000    30.00  \n",
       "RatecodeID                1.000000     1.00     1.000000     6.00  \n",
       "PULocationID            116.000000   162.00   233.000000   265.00  \n",
       "DOLocationID            107.000000   162.00   233.000000   265.00  \n",
       "payment_type              1.000000     1.00     2.000000     4.00  \n",
       "fare_amount               6.500000     9.50    14.500000   100.00  \n",
       "extra                     0.000000     0.50     2.500000     5.00  \n",
       "mta_tax                   0.500000     0.50     0.500000     1.00  \n",
       "tip_amount                0.000000     1.85     2.860000    20.00  \n",
       "tolls_amount              0.000000     0.00     0.000000    30.00  \n",
       "improvement_surcharge     0.300000     0.30     0.300000     0.60  \n",
       "total_amount             10.800000    14.16    20.160000   148.80  \n",
       "congestion_surcharge      2.500000     2.50     2.500000     2.75  \n",
       "tripduration_mins         6.716667    11.20    18.283333   180.00  \n",
       "year                   2019.000000  2019.00  2019.000000  2088.00  \n",
       "month                     3.000000     5.00     9.000000    12.00  \n",
       "day                       8.000000    16.00    23.000000    31.00  \n",
       "hour                     10.000000    15.00    19.000000    23.00  \n",
       "dayofweek                 1.000000     3.00     5.000000     6.00  \n",
       "weekendflag               0.000000     0.00     1.000000     1.00  \n",
       "holidayflag               0.000000     0.00     0.000000     1.00  "
      ]
     },
     "execution_count": 13,
     "metadata": {},
     "output_type": "execute_result"
    }
   ],
   "source": [
    "df_taxi.describe().transpose()"
   ]
  },
  {
   "cell_type": "code",
   "execution_count": 63,
   "metadata": {},
   "outputs": [
    {
     "data": {
      "text/plain": [
       "1.0    29541170\n",
       "2.0     6372966\n",
       "3.0     1779659\n",
       "5.0     1722171\n",
       "6.0     1036807\n",
       "4.0      829546\n",
       "0.0      752545\n",
       "Name: passenger_count, dtype: int64"
      ]
     },
     "execution_count": 63,
     "metadata": {},
     "output_type": "execute_result"
    }
   ],
   "source": [
    "df_taxi['passenger_count'].value_counts()"
   ]
  },
  {
   "cell_type": "code",
   "execution_count": 19,
   "metadata": {},
   "outputs": [
    {
     "data": {
      "text/plain": [
       "1.0    40803706\n",
       "2.0     1074393\n",
       "5.0      153069\n",
       "3.0       88728\n",
       "4.0       32152\n",
       "6.0         110\n",
       "Name: RatecodeID, dtype: int64"
      ]
     },
     "execution_count": 19,
     "metadata": {},
     "output_type": "execute_result"
    }
   ],
   "source": [
    "df_taxi['RatecodeID'].value_counts()"
   ]
  },
  {
   "cell_type": "code",
   "execution_count": 7,
   "metadata": {},
   "outputs": [],
   "source": [
    "df_taxi['sameloc'] = (df_taxi['PULocationID'] == df_taxi['DOLocationID']).astype(int)"
   ]
  },
  {
   "cell_type": "code",
   "execution_count": 7,
   "metadata": {
    "scrolled": true
   },
   "outputs": [
    {
     "data": {
      "text/html": [
       "<div>\n",
       "<style scoped>\n",
       "    .dataframe tbody tr th:only-of-type {\n",
       "        vertical-align: middle;\n",
       "    }\n",
       "\n",
       "    .dataframe tbody tr th {\n",
       "        vertical-align: top;\n",
       "    }\n",
       "\n",
       "    .dataframe thead th {\n",
       "        text-align: right;\n",
       "    }\n",
       "</style>\n",
       "<table border=\"1\" class=\"dataframe\">\n",
       "  <thead>\n",
       "    <tr style=\"text-align: right;\">\n",
       "      <th></th>\n",
       "      <th>VendorID</th>\n",
       "      <th>passenger_count</th>\n",
       "      <th>trip_distance</th>\n",
       "      <th>RatecodeID</th>\n",
       "      <th>store_and_fwd_flag</th>\n",
       "      <th>PULocationID</th>\n",
       "      <th>DOLocationID</th>\n",
       "      <th>payment_type</th>\n",
       "      <th>fare_amount</th>\n",
       "      <th>extra</th>\n",
       "      <th>...</th>\n",
       "      <th>congestion_surcharge</th>\n",
       "      <th>tripduration_mins</th>\n",
       "      <th>year</th>\n",
       "      <th>month</th>\n",
       "      <th>day</th>\n",
       "      <th>hour</th>\n",
       "      <th>dayofweek</th>\n",
       "      <th>weekendflag</th>\n",
       "      <th>holidayflag</th>\n",
       "      <th>sameloc</th>\n",
       "    </tr>\n",
       "  </thead>\n",
       "  <tbody>\n",
       "    <tr>\n",
       "      <th>0</th>\n",
       "      <td>1.0</td>\n",
       "      <td>1.0</td>\n",
       "      <td>1.5</td>\n",
       "      <td>1.0</td>\n",
       "      <td>N</td>\n",
       "      <td>151</td>\n",
       "      <td>239</td>\n",
       "      <td>1.0</td>\n",
       "      <td>7.0</td>\n",
       "      <td>0.5</td>\n",
       "      <td>...</td>\n",
       "      <td>0.0</td>\n",
       "      <td>6.666667</td>\n",
       "      <td>2019</td>\n",
       "      <td>1</td>\n",
       "      <td>1</td>\n",
       "      <td>0</td>\n",
       "      <td>1</td>\n",
       "      <td>0</td>\n",
       "      <td>0</td>\n",
       "      <td>0</td>\n",
       "    </tr>\n",
       "    <tr>\n",
       "      <th>1</th>\n",
       "      <td>1.0</td>\n",
       "      <td>1.0</td>\n",
       "      <td>2.6</td>\n",
       "      <td>1.0</td>\n",
       "      <td>N</td>\n",
       "      <td>239</td>\n",
       "      <td>246</td>\n",
       "      <td>1.0</td>\n",
       "      <td>14.0</td>\n",
       "      <td>0.5</td>\n",
       "      <td>...</td>\n",
       "      <td>0.0</td>\n",
       "      <td>19.200000</td>\n",
       "      <td>2019</td>\n",
       "      <td>1</td>\n",
       "      <td>1</td>\n",
       "      <td>0</td>\n",
       "      <td>1</td>\n",
       "      <td>0</td>\n",
       "      <td>0</td>\n",
       "      <td>0</td>\n",
       "    </tr>\n",
       "    <tr>\n",
       "      <th>2</th>\n",
       "      <td>1.0</td>\n",
       "      <td>1.0</td>\n",
       "      <td>1.3</td>\n",
       "      <td>1.0</td>\n",
       "      <td>N</td>\n",
       "      <td>163</td>\n",
       "      <td>229</td>\n",
       "      <td>1.0</td>\n",
       "      <td>6.5</td>\n",
       "      <td>0.5</td>\n",
       "      <td>...</td>\n",
       "      <td>0.0</td>\n",
       "      <td>7.150000</td>\n",
       "      <td>2019</td>\n",
       "      <td>1</td>\n",
       "      <td>1</td>\n",
       "      <td>0</td>\n",
       "      <td>1</td>\n",
       "      <td>0</td>\n",
       "      <td>0</td>\n",
       "      <td>0</td>\n",
       "    </tr>\n",
       "    <tr>\n",
       "      <th>3</th>\n",
       "      <td>1.0</td>\n",
       "      <td>1.0</td>\n",
       "      <td>3.7</td>\n",
       "      <td>1.0</td>\n",
       "      <td>N</td>\n",
       "      <td>229</td>\n",
       "      <td>7</td>\n",
       "      <td>1.0</td>\n",
       "      <td>13.5</td>\n",
       "      <td>0.5</td>\n",
       "      <td>...</td>\n",
       "      <td>0.0</td>\n",
       "      <td>13.633333</td>\n",
       "      <td>2019</td>\n",
       "      <td>1</td>\n",
       "      <td>1</td>\n",
       "      <td>0</td>\n",
       "      <td>1</td>\n",
       "      <td>0</td>\n",
       "      <td>0</td>\n",
       "      <td>0</td>\n",
       "    </tr>\n",
       "    <tr>\n",
       "      <th>4</th>\n",
       "      <td>1.0</td>\n",
       "      <td>2.0</td>\n",
       "      <td>2.1</td>\n",
       "      <td>1.0</td>\n",
       "      <td>N</td>\n",
       "      <td>141</td>\n",
       "      <td>234</td>\n",
       "      <td>1.0</td>\n",
       "      <td>10.0</td>\n",
       "      <td>0.5</td>\n",
       "      <td>...</td>\n",
       "      <td>0.0</td>\n",
       "      <td>12.000000</td>\n",
       "      <td>2019</td>\n",
       "      <td>1</td>\n",
       "      <td>1</td>\n",
       "      <td>0</td>\n",
       "      <td>1</td>\n",
       "      <td>0</td>\n",
       "      <td>0</td>\n",
       "      <td>0</td>\n",
       "    </tr>\n",
       "  </tbody>\n",
       "</table>\n",
       "<p>5 rows × 25 columns</p>\n",
       "</div>"
      ],
      "text/plain": [
       "   VendorID  passenger_count  trip_distance  RatecodeID store_and_fwd_flag  \\\n",
       "0       1.0              1.0            1.5         1.0                  N   \n",
       "1       1.0              1.0            2.6         1.0                  N   \n",
       "2       1.0              1.0            1.3         1.0                  N   \n",
       "3       1.0              1.0            3.7         1.0                  N   \n",
       "4       1.0              2.0            2.1         1.0                  N   \n",
       "\n",
       "   PULocationID  DOLocationID  payment_type  fare_amount  extra  ...  \\\n",
       "0           151           239           1.0          7.0    0.5  ...   \n",
       "1           239           246           1.0         14.0    0.5  ...   \n",
       "2           163           229           1.0          6.5    0.5  ...   \n",
       "3           229             7           1.0         13.5    0.5  ...   \n",
       "4           141           234           1.0         10.0    0.5  ...   \n",
       "\n",
       "   congestion_surcharge  tripduration_mins  year  month  day  hour  dayofweek  \\\n",
       "0                   0.0           6.666667  2019      1    1     0          1   \n",
       "1                   0.0          19.200000  2019      1    1     0          1   \n",
       "2                   0.0           7.150000  2019      1    1     0          1   \n",
       "3                   0.0          13.633333  2019      1    1     0          1   \n",
       "4                   0.0          12.000000  2019      1    1     0          1   \n",
       "\n",
       "   weekendflag  holidayflag  sameloc  \n",
       "0            0            0        0  \n",
       "1            0            0        0  \n",
       "2            0            0        0  \n",
       "3            0            0        0  \n",
       "4            0            0        0  \n",
       "\n",
       "[5 rows x 25 columns]"
      ]
     },
     "execution_count": 7,
     "metadata": {},
     "output_type": "execute_result"
    }
   ],
   "source": [
    "df_taxi.head()"
   ]
  },
  {
   "cell_type": "markdown",
   "metadata": {},
   "source": [
    "### Generate the correlation matrix after the data cleaning"
   ]
  },
  {
   "cell_type": "code",
   "execution_count": 72,
   "metadata": {},
   "outputs": [
    {
     "data": {
      "image/png": "[encoded data removed]",
      "text/plain": [
       "<Figure size 864x648 with 2 Axes>"
      ]
     },
     "metadata": {
      "needs_background": "light"
     },
     "output_type": "display_data"
    }
   ],
   "source": [
    "corrmat = df_taxi.corr()\n",
    "f, ax = plt.subplots(figsize=(12, 9))\n",
    "sns.heatmap(corrmat, vmax=.8, square=True, xticklabels=True, yticklabels=True);"
   ]
  },
  {
   "cell_type": "code",
   "execution_count": 20,
   "metadata": {},
   "outputs": [],
   "source": [
    "#scatter plot trip_distance/fare_amount\n",
    "var = 'trip_distance'\n",
    "data = pd.concat([df_taxi['fare_amount'], df_taxi[var]], axis=1)"
   ]
  },
  {
   "cell_type": "code",
   "execution_count": 23,
   "metadata": {},
   "outputs": [
    {
     "data": {
      "image/png": "[encoded data removed]",
      "text/plain": [
       "<Figure size 432x288 with 1 Axes>"
      ]
     },
     "metadata": {
      "needs_background": "light"
     },
     "output_type": "display_data"
    }
   ],
   "source": [
    "data.plot.scatter(x=var, y='fare_amount'); #, ylim=(0,100)"
   ]
  },
  {
   "cell_type": "code",
   "execution_count": 32,
   "metadata": {},
   "outputs": [
    {
     "data": {
      "image/png": "[encoded data removed]",
      "text/plain": [
       "<Figure size 432x288 with 1 Axes>"
      ]
     },
     "metadata": {
      "needs_background": "light"
     },
     "output_type": "display_data"
    }
   ],
   "source": [
    "#The trip duration histogram\n",
    "exception_trips = df_taxi.loc[(df_taxi['fare_amount'] < 10) & (df_taxi['trip_distance'] > 12)]\n",
    "exception_trips.shape\n",
    "sns.distplot(exception_trips['tripduration_mins'], kde=False, norm_hist=False);"
   ]
  },
  {
   "cell_type": "code",
   "execution_count": 30,
   "metadata": {},
   "outputs": [],
   "source": [
    "#scatter plot trip duration/fare amount\n",
    "data2 = pd.concat([exception_trips['fare_amount'], exception_trips['tripduration_mins']], axis=1)"
   ]
  },
  {
   "cell_type": "code",
   "execution_count": 31,
   "metadata": {},
   "outputs": [
    {
     "data": {
      "image/png": "[encoded data removed]",
      "text/plain": [
       "<Figure size 432x288 with 1 Axes>"
      ]
     },
     "metadata": {
      "needs_background": "light"
     },
     "output_type": "display_data"
    }
   ],
   "source": [
    "data2.plot.scatter(x='tripduration_mins', y='fare_amount'); #, ylim=(0,100)"
   ]
  },
  {
   "cell_type": "code",
   "execution_count": 65,
   "metadata": {},
   "outputs": [
    {
     "data": {
      "image/png": "[encoded data removed]",
      "text/plain": [
       "<Figure size 432x288 with 1 Axes>"
      ]
     },
     "metadata": {
      "needs_background": "light"
     },
     "output_type": "display_data"
    }
   ],
   "source": [
    "#Fare amount histogram\n",
    "sns.distplot(df_taxi['fare_amount'], kde=False, norm_hist=False, bins = 20);"
   ]
  },
  {
   "cell_type": "code",
   "execution_count": 66,
   "metadata": {},
   "outputs": [
    {
     "data": {
      "image/png": "[encoded data removed]",
      "text/plain": [
       "<Figure size 432x288 with 1 Axes>"
      ]
     },
     "metadata": {
      "needs_background": "light"
     },
     "output_type": "display_data"
    }
   ],
   "source": [
    "#Trip distance histogram\n",
    "sns.distplot(df_taxi['trip_distance'], kde=False, norm_hist=False, bins = 20);"
   ]
  },
  {
   "cell_type": "code",
   "execution_count": 10,
   "metadata": {},
   "outputs": [
    {
     "data": {
      "image/png": "[encoded data removed]",
      "text/plain": [
       "<Figure size 432x288 with 1 Axes>"
      ]
     },
     "metadata": {
      "needs_background": "light"
     },
     "output_type": "display_data"
    }
   ],
   "source": [
    "#Hours of the day histogram\n",
    "sns.distplot(df_taxi['hour'], kde=False, norm_hist=False);"
   ]
  },
  {
   "cell_type": "code",
   "execution_count": 11,
   "metadata": {},
   "outputs": [
    {
     "data": {
      "image/png": "[encoded data removed]",
      "text/plain": [
       "<Figure size 432x288 with 1 Axes>"
      ]
     },
     "metadata": {
      "needs_background": "light"
     },
     "output_type": "display_data"
    }
   ],
   "source": [
    "#Day of week histogram\n",
    "sns.distplot(df_taxi['dayofweek'], kde=False, norm_hist=False);"
   ]
  },
  {
   "cell_type": "code",
   "execution_count": 19,
   "metadata": {},
   "outputs": [
    {
     "data": {
      "image/png": "[encoded data removed]",
      "text/plain": [
       "<Figure size 432x288 with 1 Axes>"
      ]
     },
     "metadata": {
      "needs_background": "light"
     },
     "output_type": "display_data"
    }
   ],
   "source": [
    "#Pickup locations histogram\n",
    "sns.distplot(df_taxi['PULocationID'], kde=False, norm_hist=False);"
   ]
  },
  {
   "cell_type": "code",
   "execution_count": 13,
   "metadata": {},
   "outputs": [
    {
     "data": {
      "image/png": "[encoded data removed]",
      "text/plain": [
       "<Figure size 432x288 with 1 Axes>"
      ]
     },
     "metadata": {
      "needs_background": "light"
     },
     "output_type": "display_data"
    }
   ],
   "source": [
    "#Drop-off locations histogram\n",
    "sns.distplot(df_taxi['DOLocationID'], kde=False, norm_hist=False);"
   ]
  },
  {
   "cell_type": "code",
   "execution_count": 17,
   "metadata": {},
   "outputs": [
    {
     "data": {
      "image/png": "[encoded data removed]",
      "text/plain": [
       "<Figure size 432x288 with 1 Axes>"
      ]
     },
     "metadata": {
      "needs_background": "light"
     },
     "output_type": "display_data"
    }
   ],
   "source": [
    "#Same location histogram\n",
    "sns.distplot(df_taxi['sameloc'], kde=False, norm_hist=False);"
   ]
  },
  {
   "cell_type": "code",
   "execution_count": 6,
   "metadata": {},
   "outputs": [
    {
     "data": {
      "text/plain": [
       "0     36059572\n",
       "5      3483409\n",
       "10     1153709\n",
       "15     1074849\n",
       "20      226491\n",
       "25       36733\n",
       "30         101\n",
       "Name: trip_distance, dtype: int64"
      ]
     },
     "execution_count": 6,
     "metadata": {},
     "output_type": "execute_result"
    }
   ],
   "source": [
    "((df_taxi['trip_distance']/5).astype(int)*5).loc[:].value_counts()"
   ]
  },
  {
   "cell_type": "code",
   "execution_count": 28,
   "metadata": {},
   "outputs": [
    {
     "data": {
      "text/plain": [
       "<matplotlib.axes._subplots.AxesSubplot at 0x1877f700948>"
      ]
     },
     "execution_count": 28,
     "metadata": {},
     "output_type": "execute_result"
    },
    {
     "data": {
      "image/png": "[encoded data removed]",
      "text/plain": [
       "<Figure size 1440x1440 with 2 Axes>"
      ]
     },
     "metadata": {
      "needs_background": "light"
     },
     "output_type": "display_data"
    }
   ],
   "source": [
    "Loc_Dist = pd.pivot_table(df_taxi, index = 'PULocationID', columns = 'DOLocationID', values = 'VendorID', aggfunc = ['count'])\n",
    "#Loc_Dist = pd.pivot_table(df_taxi, index = ['PULocationID', 'DOLocationID'], values = 'VendorID', aggfunc = ['count'])\n",
    "#print(Loc_Dist)\n",
    "f, ax = plt.subplots(figsize=(20, 20))\n",
    "sns.heatmap(Loc_Dist, cmap=\"YlGnBu\")"
   ]
  },
  {
   "cell_type": "code",
   "execution_count": 29,
   "metadata": {},
   "outputs": [
    {
     "data": {
      "text/plain": [
       "<matplotlib.axes._subplots.AxesSubplot at 0x18777736f88>"
      ]
     },
     "execution_count": 29,
     "metadata": {},
     "output_type": "execute_result"
    },
    {
     "data": {
      "image/png": "[encoded data removed]",
      "text/plain": [
       "<Figure size 1440x1440 with 2 Axes>"
      ]
     },
     "metadata": {
      "needs_background": "light"
     },
     "output_type": "display_data"
    }
   ],
   "source": [
    "#Heatmap for pickup locations over days of the week\n",
    "Loc_Dist = pd.pivot_table(df_taxi, index = 'PULocationID', columns = 'dayofweek', values = 'VendorID', aggfunc = ['count'])\n",
    "f, ax = plt.subplots(figsize=(20, 20))\n",
    "sns.heatmap(Loc_Dist, cmap=\"YlGnBu\")"
   ]
  },
  {
   "cell_type": "code",
   "execution_count": 30,
   "metadata": {},
   "outputs": [
    {
     "data": {
      "text/plain": [
       "<matplotlib.axes._subplots.AxesSubplot at 0x187778552c8>"
      ]
     },
     "execution_count": 30,
     "metadata": {},
     "output_type": "execute_result"
    },
    {
     "data": {
      "image/png": "[encoded data removed]",
      "text/plain": [
       "<Figure size 1440x1440 with 2 Axes>"
      ]
     },
     "metadata": {
      "needs_background": "light"
     },
     "output_type": "display_data"
    }
   ],
   "source": [
    "#Heatmap for pickup locations over hours of the day\n",
    "Loc_Dist = pd.pivot_table(df_taxi, index = 'PULocationID', columns = 'hour', values = 'VendorID', aggfunc = ['count'])\n",
    "f, ax = plt.subplots(figsize=(20, 20))\n",
    "sns.heatmap(Loc_Dist, cmap=\"YlGnBu\")"
   ]
  },
  {
   "cell_type": "code",
   "execution_count": 10,
   "metadata": {},
   "outputs": [
    {
     "data": {
      "text/html": [
       "<div>\n",
       "<style scoped>\n",
       "    .dataframe tbody tr th:only-of-type {\n",
       "        vertical-align: middle;\n",
       "    }\n",
       "\n",
       "    .dataframe tbody tr th {\n",
       "        vertical-align: top;\n",
       "    }\n",
       "\n",
       "    .dataframe thead th {\n",
       "        text-align: right;\n",
       "    }\n",
       "</style>\n",
       "<table border=\"1\" class=\"dataframe\">\n",
       "  <thead>\n",
       "    <tr style=\"text-align: right;\">\n",
       "      <th></th>\n",
       "      <th>PULocationID</th>\n",
       "      <th>LocationID</th>\n",
       "      <th>Borough</th>\n",
       "      <th>Zone</th>\n",
       "      <th>service_zone</th>\n",
       "    </tr>\n",
       "  </thead>\n",
       "  <tbody>\n",
       "    <tr>\n",
       "      <th>0</th>\n",
       "      <td>1</td>\n",
       "      <td>1</td>\n",
       "      <td>EWR</td>\n",
       "      <td>Newark Airport</td>\n",
       "      <td>EWR</td>\n",
       "    </tr>\n",
       "    <tr>\n",
       "      <th>1</th>\n",
       "      <td>1</td>\n",
       "      <td>1</td>\n",
       "      <td>EWR</td>\n",
       "      <td>Newark Airport</td>\n",
       "      <td>EWR</td>\n",
       "    </tr>\n",
       "    <tr>\n",
       "      <th>2</th>\n",
       "      <td>1</td>\n",
       "      <td>1</td>\n",
       "      <td>EWR</td>\n",
       "      <td>Newark Airport</td>\n",
       "      <td>EWR</td>\n",
       "    </tr>\n",
       "    <tr>\n",
       "      <th>3</th>\n",
       "      <td>1</td>\n",
       "      <td>1</td>\n",
       "      <td>EWR</td>\n",
       "      <td>Newark Airport</td>\n",
       "      <td>EWR</td>\n",
       "    </tr>\n",
       "    <tr>\n",
       "      <th>4</th>\n",
       "      <td>1</td>\n",
       "      <td>1</td>\n",
       "      <td>EWR</td>\n",
       "      <td>Newark Airport</td>\n",
       "      <td>EWR</td>\n",
       "    </tr>\n",
       "  </tbody>\n",
       "</table>\n",
       "</div>"
      ],
      "text/plain": [
       "   PULocationID  LocationID Borough            Zone service_zone\n",
       "0             1           1     EWR  Newark Airport          EWR\n",
       "1             1           1     EWR  Newark Airport          EWR\n",
       "2             1           1     EWR  Newark Airport          EWR\n",
       "3             1           1     EWR  Newark Airport          EWR\n",
       "4             1           1     EWR  Newark Airport          EWR"
      ]
     },
     "execution_count": 10,
     "metadata": {},
     "output_type": "execute_result"
    }
   ],
   "source": [
    "PULocations = pd.merge(\n",
    "    df_taxi['PULocationID'],\n",
    "    df_lookup_zone,\n",
    "    how=\"inner\",\n",
    "    left_on='PULocationID',\n",
    "    right_on='LocationID',\n",
    "    sort=True\n",
    ")\n",
    "\n",
    "PULocations.head()"
   ]
  },
  {
   "cell_type": "code",
   "execution_count": 24,
   "metadata": {},
   "outputs": [
    {
     "data": {
      "image/png": "[encoded data removed]",
      "text/plain": [
       "<Figure size 432x288 with 1 Axes>"
      ]
     },
     "metadata": {
      "needs_background": "light"
     },
     "output_type": "display_data"
    }
   ],
   "source": [
    "#Trip distribution over NY Pickup Boroughs\n",
    "PULocations.groupby(['Borough']).count()['LocationID'].plot(kind=\"bar\", title = 'Trips distribution over Pickup Boroughs'); #, fontsize=14, figsize = (30, 8)"
   ]
  },
  {
   "cell_type": "code",
   "execution_count": 23,
   "metadata": {},
   "outputs": [],
   "source": [
    "DOLocations = pd.merge(\n",
    "    df_taxi['DOLocationID'],\n",
    "    df_lookup_zone,\n",
    "    how=\"inner\",\n",
    "    left_on='DOLocationID',\n",
    "    right_on='LocationID',\n",
    "    sort=True\n",
    ")"
   ]
  },
  {
   "cell_type": "code",
   "execution_count": 25,
   "metadata": {},
   "outputs": [
    {
     "data": {
      "image/png": "[encoded data removed]",
      "text/plain": [
       "<Figure size 432x288 with 1 Axes>"
      ]
     },
     "metadata": {
      "needs_background": "light"
     },
     "output_type": "display_data"
    }
   ],
   "source": [
    "#Trip distribution over NY Dropoff Boroughs\n",
    "DOLocations.groupby(['Borough']).count()['LocationID'].plot(kind=\"bar\", title = 'Trips distribution over Drop Boroughs'); #, fontsize=14, figsize = (30, 8)"
   ]
  },
  {
   "cell_type": "markdown",
   "metadata": {},
   "source": [
    "## Business Questions/Use Cases"
   ]
  },
  {
   "cell_type": "markdown",
   "metadata": {},
   "source": [
    "### What are the most demanding areas at specific time?\n",
    "#### for example below are top pick up locations for a specific day and hour (Thursday 7pm)"
   ]
  },
  {
   "cell_type": "code",
   "execution_count": 26,
   "metadata": {},
   "outputs": [
    {
     "data": {
      "text/html": [
       "<div>\n",
       "<style scoped>\n",
       "    .dataframe tbody tr th:only-of-type {\n",
       "        vertical-align: middle;\n",
       "    }\n",
       "\n",
       "    .dataframe tbody tr th {\n",
       "        vertical-align: top;\n",
       "    }\n",
       "\n",
       "    .dataframe thead th {\n",
       "        text-align: right;\n",
       "    }\n",
       "</style>\n",
       "<table border=\"1\" class=\"dataframe\">\n",
       "  <thead>\n",
       "    <tr style=\"text-align: right;\">\n",
       "      <th></th>\n",
       "      <th>PULocationID</th>\n",
       "      <th>LocationID</th>\n",
       "      <th>Borough</th>\n",
       "      <th>Zone</th>\n",
       "      <th>service_zone</th>\n",
       "    </tr>\n",
       "  </thead>\n",
       "  <tbody>\n",
       "    <tr>\n",
       "      <th>0</th>\n",
       "      <td>1</td>\n",
       "      <td>1</td>\n",
       "      <td>EWR</td>\n",
       "      <td>Newark Airport</td>\n",
       "      <td>EWR</td>\n",
       "    </tr>\n",
       "    <tr>\n",
       "      <th>1</th>\n",
       "      <td>1</td>\n",
       "      <td>1</td>\n",
       "      <td>EWR</td>\n",
       "      <td>Newark Airport</td>\n",
       "      <td>EWR</td>\n",
       "    </tr>\n",
       "    <tr>\n",
       "      <th>2</th>\n",
       "      <td>3</td>\n",
       "      <td>3</td>\n",
       "      <td>Bronx</td>\n",
       "      <td>Allerton/Pelham Gardens</td>\n",
       "      <td>Boro Zone</td>\n",
       "    </tr>\n",
       "    <tr>\n",
       "      <th>3</th>\n",
       "      <td>3</td>\n",
       "      <td>3</td>\n",
       "      <td>Bronx</td>\n",
       "      <td>Allerton/Pelham Gardens</td>\n",
       "      <td>Boro Zone</td>\n",
       "    </tr>\n",
       "    <tr>\n",
       "      <th>4</th>\n",
       "      <td>3</td>\n",
       "      <td>3</td>\n",
       "      <td>Bronx</td>\n",
       "      <td>Allerton/Pelham Gardens</td>\n",
       "      <td>Boro Zone</td>\n",
       "    </tr>\n",
       "  </tbody>\n",
       "</table>\n",
       "</div>"
      ],
      "text/plain": [
       "   PULocationID  LocationID Borough                     Zone service_zone\n",
       "0             1           1     EWR           Newark Airport          EWR\n",
       "1             1           1     EWR           Newark Airport          EWR\n",
       "2             3           3   Bronx  Allerton/Pelham Gardens    Boro Zone\n",
       "3             3           3   Bronx  Allerton/Pelham Gardens    Boro Zone\n",
       "4             3           3   Bronx  Allerton/Pelham Gardens    Boro Zone"
      ]
     },
     "execution_count": 26,
     "metadata": {},
     "output_type": "execute_result"
    }
   ],
   "source": [
    "filtered_df = df_taxi[(df_taxi['dayofweek'] == 3) & (df_taxi['hour'] == 19)]['PULocationID']\n",
    "\n",
    "TopPULocations = pd.merge(\n",
    "    filtered_df,\n",
    "    df_lookup_zone,\n",
    "    how=\"inner\",\n",
    "    left_on='PULocationID',\n",
    "    right_on='LocationID',\n",
    "    sort=True\n",
    ")\n",
    "\n",
    "TopPULocations.head()"
   ]
  },
  {
   "cell_type": "code",
   "execution_count": 34,
   "metadata": {},
   "outputs": [
    {
     "data": {
      "image/png": "[encoded data removed]",
      "text/plain": [
       "<Figure size 2160x576 with 1 Axes>"
      ]
     },
     "metadata": {
      "needs_background": "light"
     },
     "output_type": "display_data"
    }
   ],
   "source": [
    "TopPULocations.groupby(['PULocationID']).count()['LocationID'].sort_values(ascending=False).head(30).plot(kind=\"bar\", figsize = (30, 8), fontsize=20 , title = 'Top PULocations on Thursday 7pm'); #, fontsize=14, figsize = (30, 8)"
   ]
  },
  {
   "cell_type": "markdown",
   "metadata": {},
   "source": [
    "### How to deploy the fleet based on driver’s preferences for drop off locations (a driver may prefer a drop off near his home)?\n",
    "#### For example, below are top pick up locations for a specific day and hour (Thursday 7pm) which will most likely will lead to the favorite drop off locations [230, 234, 236]"
   ]
  },
  {
   "cell_type": "code",
   "execution_count": 42,
   "metadata": {},
   "outputs": [],
   "source": [
    "DOList = [230, 234, 236]\n",
    "filtered_df2 = df_taxi[(df_taxi['dayofweek'] == 3) & (df_taxi['hour'] == 19) & (df_taxi['DOLocationID'].isin(DOList))][['PULocationID', 'DOLocationID']]\n"
   ]
  },
  {
   "cell_type": "code",
   "execution_count": 44,
   "metadata": {},
   "outputs": [
    {
     "data": {
      "image/png": "[encoded data removed]",
      "text/plain": [
       "<Figure size 2160x576 with 1 Axes>"
      ]
     },
     "metadata": {
      "needs_background": "light"
     },
     "output_type": "display_data"
    }
   ],
   "source": [
    "filtered_df2.groupby(['PULocationID']).count()['DOLocationID'].sort_values(ascending=False).head(30).plot(kind=\"bar\", figsize = (30, 8), fontsize=20 , title = 'Top PULocations on Thursday 7pm for specific DO List'); #, fontsize=14, figsize = (30, 8)"
   ]
  },
  {
   "cell_type": "markdown",
   "metadata": {},
   "source": [
    "### Now let's run our basic model to predict the Fare_Rate"
   ]
  },
  {
   "cell_type": "markdown",
   "metadata": {},
   "source": [
    "### Scenario #1 Linear regression with all possible features as numeric"
   ]
  },
  {
   "cell_type": "code",
   "execution_count": 3,
   "metadata": {},
   "outputs": [],
   "source": [
    "#Split into explanatory and response variables\n",
    "X = df_taxi[['trip_distance', 'RatecodeID', 'tripduration_mins', 'month', 'hour', 'weekendflag', 'holidayflag', 'passenger_count', 'PULocationID', 'DOLocationID', 'payment_type']]\n",
    "y = df_taxi['fare_amount']"
   ]
  },
  {
   "cell_type": "code",
   "execution_count": 4,
   "metadata": {},
   "outputs": [],
   "source": [
    "#Split into train and test\n",
    "X_train, X_test, y_train, y_test = train_test_split(X, y, test_size = .30, random_state=42)\n",
    "\n",
    "#Clear memory to be able to run the model\n",
    "del X\n",
    "del y"
   ]
  },
  {
   "cell_type": "code",
   "execution_count": 5,
   "metadata": {},
   "outputs": [
    {
     "data": {
      "text/plain": [
       "LinearRegression(copy_X=True, fit_intercept=True, n_jobs=None, normalize=True)"
      ]
     },
     "execution_count": 5,
     "metadata": {},
     "output_type": "execute_result"
    }
   ],
   "source": [
    "lm_model = LinearRegression(normalize=True) # Instantiate\n",
    "lm_model.fit(X_train, y_train) #Fit"
   ]
  },
  {
   "cell_type": "code",
   "execution_count": 10,
   "metadata": {},
   "outputs": [
    {
     "name": "stdout",
     "output_type": "stream",
     "text": [
      "The r-squared score for our model on Training data is 0.9408655229497245 on 14712202 values.\n",
      "The mean_squared_error score for our model on Training data is 6.879148895127688 on 14712202 values.\n",
      "The root_mean_squared_error score for our model on Training data is 2.622813164357631 on 14712202 values.\n",
      " \n",
      "The r-squared score for our model on Testing data is 0.9409164098556393 on 6305230 values.\n",
      "The mean_squared_error score for our model on Testing data is 6.871197085487989 on 6305230 values.\n",
      "The root_mean_squared_error score for our model on Testing data is 2.62129683276961 on 6305230 values.\n"
     ]
    }
   ],
   "source": [
    "#Predict and score the model on training and test data\n",
    "y_train_preds, y_test_preds = print_model_scores(lm_model, X_train, X_test, y_train, y_test)"
   ]
  },
  {
   "cell_type": "code",
   "execution_count": 11,
   "metadata": {},
   "outputs": [
    {
     "data": {
      "text/html": [
       "<div>\n",
       "<style scoped>\n",
       "    .dataframe tbody tr th:only-of-type {\n",
       "        vertical-align: middle;\n",
       "    }\n",
       "\n",
       "    .dataframe tbody tr th {\n",
       "        vertical-align: top;\n",
       "    }\n",
       "\n",
       "    .dataframe thead th {\n",
       "        text-align: right;\n",
       "    }\n",
       "</style>\n",
       "<table border=\"1\" class=\"dataframe\">\n",
       "  <thead>\n",
       "    <tr style=\"text-align: right;\">\n",
       "      <th></th>\n",
       "      <th>est_int</th>\n",
       "      <th>coefs</th>\n",
       "      <th>abs_coefs</th>\n",
       "    </tr>\n",
       "  </thead>\n",
       "  <tbody>\n",
       "    <tr>\n",
       "      <th>1</th>\n",
       "      <td>RatecodeID</td>\n",
       "      <td>4.877630</td>\n",
       "      <td>4.877630</td>\n",
       "    </tr>\n",
       "    <tr>\n",
       "      <th>0</th>\n",
       "      <td>trip_distance</td>\n",
       "      <td>1.789178</td>\n",
       "      <td>1.789178</td>\n",
       "    </tr>\n",
       "    <tr>\n",
       "      <th>6</th>\n",
       "      <td>holidayflag</td>\n",
       "      <td>-0.380822</td>\n",
       "      <td>0.380822</td>\n",
       "    </tr>\n",
       "    <tr>\n",
       "      <th>2</th>\n",
       "      <td>tripduration_mins</td>\n",
       "      <td>0.317012</td>\n",
       "      <td>0.317012</td>\n",
       "    </tr>\n",
       "    <tr>\n",
       "      <th>5</th>\n",
       "      <td>weekendflag</td>\n",
       "      <td>-0.079736</td>\n",
       "      <td>0.079736</td>\n",
       "    </tr>\n",
       "    <tr>\n",
       "      <th>3</th>\n",
       "      <td>month</td>\n",
       "      <td>0.021592</td>\n",
       "      <td>0.021592</td>\n",
       "    </tr>\n",
       "    <tr>\n",
       "      <th>4</th>\n",
       "      <td>hour</td>\n",
       "      <td>-0.006859</td>\n",
       "      <td>0.006859</td>\n",
       "    </tr>\n",
       "    <tr>\n",
       "      <th>10</th>\n",
       "      <td>payment_type</td>\n",
       "      <td>0.001454</td>\n",
       "      <td>0.001454</td>\n",
       "    </tr>\n",
       "    <tr>\n",
       "      <th>9</th>\n",
       "      <td>DOLocationID</td>\n",
       "      <td>-0.000803</td>\n",
       "      <td>0.000803</td>\n",
       "    </tr>\n",
       "    <tr>\n",
       "      <th>7</th>\n",
       "      <td>passenger_count</td>\n",
       "      <td>0.000387</td>\n",
       "      <td>0.000387</td>\n",
       "    </tr>\n",
       "    <tr>\n",
       "      <th>8</th>\n",
       "      <td>PULocationID</td>\n",
       "      <td>-0.000010</td>\n",
       "      <td>0.000010</td>\n",
       "    </tr>\n",
       "  </tbody>\n",
       "</table>\n",
       "</div>"
      ],
      "text/plain": [
       "              est_int     coefs  abs_coefs\n",
       "1          RatecodeID  4.877630   4.877630\n",
       "0       trip_distance  1.789178   1.789178\n",
       "6         holidayflag -0.380822   0.380822\n",
       "2   tripduration_mins  0.317012   0.317012\n",
       "5         weekendflag -0.079736   0.079736\n",
       "3               month  0.021592   0.021592\n",
       "4                hour -0.006859   0.006859\n",
       "10       payment_type  0.001454   0.001454\n",
       "9        DOLocationID -0.000803   0.000803\n",
       "7     passenger_count  0.000387   0.000387\n",
       "8        PULocationID -0.000010   0.000010"
      ]
     },
     "execution_count": 11,
     "metadata": {},
     "output_type": "execute_result"
    }
   ],
   "source": [
    "#Use the function\n",
    "coef_df = coef_weights(lm_model.coef_, X_train)\n",
    "\n",
    "#A quick look at the top results\n",
    "coef_df.head(20)"
   ]
  },
  {
   "cell_type": "markdown",
   "metadata": {},
   "source": [
    "### Scenario #2 Linear regression using important features as numeric"
   ]
  },
  {
   "cell_type": "code",
   "execution_count": 12,
   "metadata": {},
   "outputs": [],
   "source": [
    "#Split into explanatory and response variables\n",
    "X = df_taxi[['trip_distance', 'RatecodeID', 'tripduration_mins', 'month', 'hour', 'weekendflag', 'holidayflag']]\n",
    "y = df_taxi['fare_amount']"
   ]
  },
  {
   "cell_type": "code",
   "execution_count": 13,
   "metadata": {},
   "outputs": [],
   "source": [
    "#Split into train and test\n",
    "X_train, X_test, y_train, y_test = train_test_split(X, y, test_size = .30, random_state=42)\n",
    "del X\n",
    "del y"
   ]
  },
  {
   "cell_type": "code",
   "execution_count": 14,
   "metadata": {},
   "outputs": [
    {
     "name": "stdout",
     "output_type": "stream",
     "text": [
      "The r-squared score for our model on Training data is 0.9408385370477721 on 14712202 values.\n",
      "The mean_squared_error score for our model on Training data is 6.882288181156071 on 14712202 values.\n",
      "The root_mean_squared_error score for our model on Training data is 2.623411553903823 on 14712202 values.\n",
      " \n",
      "The r-squared score for our model on Testing data is 0.940890929867919 on 6305230 values.\n",
      "The mean_squared_error score for our model on Testing data is 6.874160311265811 on 6305230 values.\n",
      "The root_mean_squared_error score for our model on Testing data is 2.6218619931769505 on 6305230 values.\n"
     ]
    }
   ],
   "source": [
    "lm_model = LinearRegression(normalize=True) # Instantiate\n",
    "lm_model.fit(X_train, y_train) #Fit\n",
    "        \n",
    "#Predict and score the model on training and test data\n",
    "y_train_preds, y_test_preds = print_model_scores(lm_model, X_train, X_test, y_train, y_test)"
   ]
  },
  {
   "cell_type": "code",
   "execution_count": 15,
   "metadata": {},
   "outputs": [
    {
     "data": {
      "text/html": [
       "<div>\n",
       "<style scoped>\n",
       "    .dataframe tbody tr th:only-of-type {\n",
       "        vertical-align: middle;\n",
       "    }\n",
       "\n",
       "    .dataframe tbody tr th {\n",
       "        vertical-align: top;\n",
       "    }\n",
       "\n",
       "    .dataframe thead th {\n",
       "        text-align: right;\n",
       "    }\n",
       "</style>\n",
       "<table border=\"1\" class=\"dataframe\">\n",
       "  <thead>\n",
       "    <tr style=\"text-align: right;\">\n",
       "      <th></th>\n",
       "      <th>est_int</th>\n",
       "      <th>coefs</th>\n",
       "      <th>abs_coefs</th>\n",
       "    </tr>\n",
       "  </thead>\n",
       "  <tbody>\n",
       "    <tr>\n",
       "      <th>1</th>\n",
       "      <td>RatecodeID</td>\n",
       "      <td>4.873097</td>\n",
       "      <td>4.873097</td>\n",
       "    </tr>\n",
       "    <tr>\n",
       "      <th>0</th>\n",
       "      <td>trip_distance</td>\n",
       "      <td>1.790674</td>\n",
       "      <td>1.790674</td>\n",
       "    </tr>\n",
       "    <tr>\n",
       "      <th>6</th>\n",
       "      <td>holidayflag</td>\n",
       "      <td>-0.357203</td>\n",
       "      <td>0.357203</td>\n",
       "    </tr>\n",
       "    <tr>\n",
       "      <th>2</th>\n",
       "      <td>tripduration_mins</td>\n",
       "      <td>0.317114</td>\n",
       "      <td>0.317114</td>\n",
       "    </tr>\n",
       "    <tr>\n",
       "      <th>5</th>\n",
       "      <td>weekendflag</td>\n",
       "      <td>-0.076037</td>\n",
       "      <td>0.076037</td>\n",
       "    </tr>\n",
       "    <tr>\n",
       "      <th>3</th>\n",
       "      <td>month</td>\n",
       "      <td>0.021624</td>\n",
       "      <td>0.021624</td>\n",
       "    </tr>\n",
       "    <tr>\n",
       "      <th>4</th>\n",
       "      <td>hour</td>\n",
       "      <td>-0.007014</td>\n",
       "      <td>0.007014</td>\n",
       "    </tr>\n",
       "  </tbody>\n",
       "</table>\n",
       "</div>"
      ],
      "text/plain": [
       "             est_int     coefs  abs_coefs\n",
       "1         RatecodeID  4.873097   4.873097\n",
       "0      trip_distance  1.790674   1.790674\n",
       "6        holidayflag -0.357203   0.357203\n",
       "2  tripduration_mins  0.317114   0.317114\n",
       "5        weekendflag -0.076037   0.076037\n",
       "3              month  0.021624   0.021624\n",
       "4               hour -0.007014   0.007014"
      ]
     },
     "execution_count": 15,
     "metadata": {},
     "output_type": "execute_result"
    }
   ],
   "source": [
    "#Use the function\n",
    "coef_df = coef_weights(lm_model.coef_, X_train)\n",
    "\n",
    "#A quick look at the top results\n",
    "coef_df.head(20)"
   ]
  },
  {
   "cell_type": "markdown",
   "metadata": {},
   "source": [
    "### Scenario #3 Linear regression with important features and OneHotEncoding for categorical features"
   ]
  },
  {
   "cell_type": "code",
   "execution_count": 6,
   "metadata": {},
   "outputs": [],
   "source": [
    "#Split into explanatory and response variables\n",
    "df_taxi_cat = df_taxi[['trip_distance', 'RatecodeID', 'tripduration_mins', 'month', 'hour', 'weekendflag', 'holidayflag', 'fare_amount']]\n",
    "df_taxi_cat = df_taxi_cat.astype({'RatecodeID': 'object', 'month': 'object', 'hour': 'object'})"
   ]
  },
  {
   "cell_type": "code",
   "execution_count": 7,
   "metadata": {},
   "outputs": [],
   "source": [
    "df_taxi_cat = create_dummy_df(df_taxi_cat, dummy_na=False)\n",
    "del df_taxi"
   ]
  },
  {
   "cell_type": "code",
   "execution_count": 18,
   "metadata": {},
   "outputs": [
    {
     "data": {
      "text/html": [
       "<div>\n",
       "<style scoped>\n",
       "    .dataframe tbody tr th:only-of-type {\n",
       "        vertical-align: middle;\n",
       "    }\n",
       "\n",
       "    .dataframe tbody tr th {\n",
       "        vertical-align: top;\n",
       "    }\n",
       "\n",
       "    .dataframe thead th {\n",
       "        text-align: right;\n",
       "    }\n",
       "</style>\n",
       "<table border=\"1\" class=\"dataframe\">\n",
       "  <thead>\n",
       "    <tr style=\"text-align: right;\">\n",
       "      <th></th>\n",
       "      <th>trip_distance</th>\n",
       "      <th>tripduration_mins</th>\n",
       "      <th>weekendflag</th>\n",
       "      <th>holidayflag</th>\n",
       "      <th>fare_amount</th>\n",
       "      <th>RatecodeID_2.0</th>\n",
       "      <th>RatecodeID_3.0</th>\n",
       "      <th>RatecodeID_4.0</th>\n",
       "      <th>RatecodeID_5.0</th>\n",
       "      <th>RatecodeID_6.0</th>\n",
       "      <th>...</th>\n",
       "      <th>hour_14</th>\n",
       "      <th>hour_15</th>\n",
       "      <th>hour_16</th>\n",
       "      <th>hour_17</th>\n",
       "      <th>hour_18</th>\n",
       "      <th>hour_19</th>\n",
       "      <th>hour_20</th>\n",
       "      <th>hour_21</th>\n",
       "      <th>hour_22</th>\n",
       "      <th>hour_23</th>\n",
       "    </tr>\n",
       "  </thead>\n",
       "  <tbody>\n",
       "    <tr>\n",
       "      <th>0</th>\n",
       "      <td>9.94</td>\n",
       "      <td>16.250000</td>\n",
       "      <td>0</td>\n",
       "      <td>0</td>\n",
       "      <td>27.5</td>\n",
       "      <td>0</td>\n",
       "      <td>0</td>\n",
       "      <td>0</td>\n",
       "      <td>0</td>\n",
       "      <td>0</td>\n",
       "      <td>...</td>\n",
       "      <td>0</td>\n",
       "      <td>0</td>\n",
       "      <td>0</td>\n",
       "      <td>0</td>\n",
       "      <td>0</td>\n",
       "      <td>1</td>\n",
       "      <td>0</td>\n",
       "      <td>0</td>\n",
       "      <td>0</td>\n",
       "      <td>0</td>\n",
       "    </tr>\n",
       "    <tr>\n",
       "      <th>1</th>\n",
       "      <td>1.33</td>\n",
       "      <td>11.600000</td>\n",
       "      <td>0</td>\n",
       "      <td>0</td>\n",
       "      <td>8.5</td>\n",
       "      <td>0</td>\n",
       "      <td>0</td>\n",
       "      <td>0</td>\n",
       "      <td>0</td>\n",
       "      <td>0</td>\n",
       "      <td>...</td>\n",
       "      <td>0</td>\n",
       "      <td>0</td>\n",
       "      <td>0</td>\n",
       "      <td>0</td>\n",
       "      <td>0</td>\n",
       "      <td>0</td>\n",
       "      <td>1</td>\n",
       "      <td>0</td>\n",
       "      <td>0</td>\n",
       "      <td>0</td>\n",
       "    </tr>\n",
       "    <tr>\n",
       "      <th>2</th>\n",
       "      <td>1.84</td>\n",
       "      <td>10.183333</td>\n",
       "      <td>0</td>\n",
       "      <td>0</td>\n",
       "      <td>9.0</td>\n",
       "      <td>0</td>\n",
       "      <td>0</td>\n",
       "      <td>0</td>\n",
       "      <td>0</td>\n",
       "      <td>0</td>\n",
       "      <td>...</td>\n",
       "      <td>0</td>\n",
       "      <td>0</td>\n",
       "      <td>0</td>\n",
       "      <td>0</td>\n",
       "      <td>0</td>\n",
       "      <td>0</td>\n",
       "      <td>0</td>\n",
       "      <td>0</td>\n",
       "      <td>0</td>\n",
       "      <td>0</td>\n",
       "    </tr>\n",
       "    <tr>\n",
       "      <th>3</th>\n",
       "      <td>0.49</td>\n",
       "      <td>3.550000</td>\n",
       "      <td>0</td>\n",
       "      <td>0</td>\n",
       "      <td>4.5</td>\n",
       "      <td>0</td>\n",
       "      <td>0</td>\n",
       "      <td>0</td>\n",
       "      <td>0</td>\n",
       "      <td>0</td>\n",
       "      <td>...</td>\n",
       "      <td>0</td>\n",
       "      <td>0</td>\n",
       "      <td>0</td>\n",
       "      <td>0</td>\n",
       "      <td>1</td>\n",
       "      <td>0</td>\n",
       "      <td>0</td>\n",
       "      <td>0</td>\n",
       "      <td>0</td>\n",
       "      <td>0</td>\n",
       "    </tr>\n",
       "    <tr>\n",
       "      <th>4</th>\n",
       "      <td>1.10</td>\n",
       "      <td>3.916667</td>\n",
       "      <td>0</td>\n",
       "      <td>0</td>\n",
       "      <td>5.5</td>\n",
       "      <td>0</td>\n",
       "      <td>0</td>\n",
       "      <td>0</td>\n",
       "      <td>0</td>\n",
       "      <td>0</td>\n",
       "      <td>...</td>\n",
       "      <td>0</td>\n",
       "      <td>0</td>\n",
       "      <td>0</td>\n",
       "      <td>0</td>\n",
       "      <td>0</td>\n",
       "      <td>0</td>\n",
       "      <td>0</td>\n",
       "      <td>0</td>\n",
       "      <td>1</td>\n",
       "      <td>0</td>\n",
       "    </tr>\n",
       "  </tbody>\n",
       "</table>\n",
       "<p>5 rows × 44 columns</p>\n",
       "</div>"
      ],
      "text/plain": [
       "   trip_distance  tripduration_mins  weekendflag  holidayflag  fare_amount  \\\n",
       "0           9.94          16.250000            0            0         27.5   \n",
       "1           1.33          11.600000            0            0          8.5   \n",
       "2           1.84          10.183333            0            0          9.0   \n",
       "3           0.49           3.550000            0            0          4.5   \n",
       "4           1.10           3.916667            0            0          5.5   \n",
       "\n",
       "   RatecodeID_2.0  RatecodeID_3.0  RatecodeID_4.0  RatecodeID_5.0  \\\n",
       "0               0               0               0               0   \n",
       "1               0               0               0               0   \n",
       "2               0               0               0               0   \n",
       "3               0               0               0               0   \n",
       "4               0               0               0               0   \n",
       "\n",
       "   RatecodeID_6.0  ...  hour_14  hour_15  hour_16  hour_17  hour_18  hour_19  \\\n",
       "0               0  ...        0        0        0        0        0        1   \n",
       "1               0  ...        0        0        0        0        0        0   \n",
       "2               0  ...        0        0        0        0        0        0   \n",
       "3               0  ...        0        0        0        0        1        0   \n",
       "4               0  ...        0        0        0        0        0        0   \n",
       "\n",
       "   hour_20  hour_21  hour_22  hour_23  \n",
       "0        0        0        0        0  \n",
       "1        1        0        0        0  \n",
       "2        0        0        0        0  \n",
       "3        0        0        0        0  \n",
       "4        0        0        1        0  \n",
       "\n",
       "[5 rows x 44 columns]"
      ]
     },
     "execution_count": 18,
     "metadata": {},
     "output_type": "execute_result"
    }
   ],
   "source": [
    "df_taxi_cat.head()"
   ]
  },
  {
   "cell_type": "code",
   "execution_count": 8,
   "metadata": {},
   "outputs": [],
   "source": [
    "#Split into explanatory and response variables\n",
    "y = df_taxi_cat['fare_amount']\n",
    "X = df_taxi_cat.drop('fare_amount', axis=1)\n",
    "del df_taxi_cat"
   ]
  },
  {
   "cell_type": "code",
   "execution_count": 9,
   "metadata": {},
   "outputs": [],
   "source": [
    "#Split into train and test\n",
    "X_train, X_test, y_train, y_test = train_test_split(X, y, test_size = .30, random_state=42)\n",
    "del X\n",
    "del y"
   ]
  },
  {
   "cell_type": "code",
   "execution_count": 21,
   "metadata": {},
   "outputs": [
    {
     "data": {
      "text/plain": [
       "LinearRegression(copy_X=True, fit_intercept=True, n_jobs=None, normalize=True)"
      ]
     },
     "execution_count": 21,
     "metadata": {},
     "output_type": "execute_result"
    }
   ],
   "source": [
    "lm_model = LinearRegression(normalize=True) # Instantiate\n",
    "lm_model.fit(X_train, y_train) #Fit"
   ]
  },
  {
   "cell_type": "code",
   "execution_count": 22,
   "metadata": {},
   "outputs": [
    {
     "name": "stdout",
     "output_type": "stream",
     "text": [
      "The r-squared score for our model on Training data is 0.9432230301501271 on 14712202 values.\n",
      "The mean_squared_error score for our model on Training data is 6.604898679993168 on 14712202 values.\n",
      "The root_mean_squared_error score for our model on Training data is 2.5699997431893196 on 14712202 values.\n",
      " \n",
      "The r-squared score for our model on Testing data is 0.943321447117103 on 6305230 values.\n",
      "The mean_squared_error score for our model on Testing data is 6.591500388298767 on 6305230 values.\n",
      "The root_mean_squared_error score for our model on Testing data is 2.567391748116903 on 6305230 values.\n"
     ]
    }
   ],
   "source": [
    "#Predict and score the model on training and test data\n",
    "y_train_preds, y_test_preds = print_model_scores(lm_model, X_train, X_test, y_train, y_test)"
   ]
  },
  {
   "cell_type": "code",
   "execution_count": 27,
   "metadata": {},
   "outputs": [
    {
     "data": {
      "text/html": [
       "<div>\n",
       "<style scoped>\n",
       "    .dataframe tbody tr th:only-of-type {\n",
       "        vertical-align: middle;\n",
       "    }\n",
       "\n",
       "    .dataframe tbody tr th {\n",
       "        vertical-align: top;\n",
       "    }\n",
       "\n",
       "    .dataframe thead th {\n",
       "        text-align: right;\n",
       "    }\n",
       "</style>\n",
       "<table border=\"1\" class=\"dataframe\">\n",
       "  <thead>\n",
       "    <tr style=\"text-align: right;\">\n",
       "      <th></th>\n",
       "      <th>est_int</th>\n",
       "      <th>coefs</th>\n",
       "      <th>abs_coefs</th>\n",
       "    </tr>\n",
       "  </thead>\n",
       "  <tbody>\n",
       "    <tr>\n",
       "      <th>5</th>\n",
       "      <td>RatecodeID_3.0</td>\n",
       "      <td>21.094494</td>\n",
       "      <td>21.094494</td>\n",
       "    </tr>\n",
       "    <tr>\n",
       "      <th>7</th>\n",
       "      <td>RatecodeID_5.0</td>\n",
       "      <td>17.677541</td>\n",
       "      <td>17.677541</td>\n",
       "    </tr>\n",
       "    <tr>\n",
       "      <th>6</th>\n",
       "      <td>RatecodeID_4.0</td>\n",
       "      <td>15.300913</td>\n",
       "      <td>15.300913</td>\n",
       "    </tr>\n",
       "    <tr>\n",
       "      <th>4</th>\n",
       "      <td>RatecodeID_2.0</td>\n",
       "      <td>3.953922</td>\n",
       "      <td>3.953922</td>\n",
       "    </tr>\n",
       "    <tr>\n",
       "      <th>8</th>\n",
       "      <td>RatecodeID_6.0</td>\n",
       "      <td>-3.822377</td>\n",
       "      <td>3.822377</td>\n",
       "    </tr>\n",
       "    <tr>\n",
       "      <th>0</th>\n",
       "      <td>trip_distance</td>\n",
       "      <td>1.793444</td>\n",
       "      <td>1.793444</td>\n",
       "    </tr>\n",
       "    <tr>\n",
       "      <th>9</th>\n",
       "      <td>month_2</td>\n",
       "      <td>0.534433</td>\n",
       "      <td>0.534433</td>\n",
       "    </tr>\n",
       "    <tr>\n",
       "      <th>15</th>\n",
       "      <td>month_8</td>\n",
       "      <td>0.531600</td>\n",
       "      <td>0.531600</td>\n",
       "    </tr>\n",
       "    <tr>\n",
       "      <th>19</th>\n",
       "      <td>month_12</td>\n",
       "      <td>0.522987</td>\n",
       "      <td>0.522987</td>\n",
       "    </tr>\n",
       "    <tr>\n",
       "      <th>17</th>\n",
       "      <td>month_10</td>\n",
       "      <td>0.379549</td>\n",
       "      <td>0.379549</td>\n",
       "    </tr>\n",
       "    <tr>\n",
       "      <th>3</th>\n",
       "      <td>holidayflag</td>\n",
       "      <td>-0.342436</td>\n",
       "      <td>0.342436</td>\n",
       "    </tr>\n",
       "    <tr>\n",
       "      <th>11</th>\n",
       "      <td>month_4</td>\n",
       "      <td>0.326087</td>\n",
       "      <td>0.326087</td>\n",
       "    </tr>\n",
       "    <tr>\n",
       "      <th>1</th>\n",
       "      <td>tripduration_mins</td>\n",
       "      <td>0.318038</td>\n",
       "      <td>0.318038</td>\n",
       "    </tr>\n",
       "    <tr>\n",
       "      <th>26</th>\n",
       "      <td>hour_7</td>\n",
       "      <td>-0.282740</td>\n",
       "      <td>0.282740</td>\n",
       "    </tr>\n",
       "    <tr>\n",
       "      <th>24</th>\n",
       "      <td>hour_5</td>\n",
       "      <td>0.263791</td>\n",
       "      <td>0.263791</td>\n",
       "    </tr>\n",
       "    <tr>\n",
       "      <th>25</th>\n",
       "      <td>hour_6</td>\n",
       "      <td>-0.225527</td>\n",
       "      <td>0.225527</td>\n",
       "    </tr>\n",
       "    <tr>\n",
       "      <th>23</th>\n",
       "      <td>hour_4</td>\n",
       "      <td>0.215154</td>\n",
       "      <td>0.215154</td>\n",
       "    </tr>\n",
       "    <tr>\n",
       "      <th>39</th>\n",
       "      <td>hour_20</td>\n",
       "      <td>-0.191718</td>\n",
       "      <td>0.191718</td>\n",
       "    </tr>\n",
       "    <tr>\n",
       "      <th>16</th>\n",
       "      <td>month_9</td>\n",
       "      <td>0.174919</td>\n",
       "      <td>0.174919</td>\n",
       "    </tr>\n",
       "    <tr>\n",
       "      <th>18</th>\n",
       "      <td>month_11</td>\n",
       "      <td>0.171428</td>\n",
       "      <td>0.171428</td>\n",
       "    </tr>\n",
       "    <tr>\n",
       "      <th>40</th>\n",
       "      <td>hour_21</td>\n",
       "      <td>-0.167348</td>\n",
       "      <td>0.167348</td>\n",
       "    </tr>\n",
       "    <tr>\n",
       "      <th>38</th>\n",
       "      <td>hour_19</td>\n",
       "      <td>-0.161726</td>\n",
       "      <td>0.161726</td>\n",
       "    </tr>\n",
       "    <tr>\n",
       "      <th>34</th>\n",
       "      <td>hour_15</td>\n",
       "      <td>-0.148349</td>\n",
       "      <td>0.148349</td>\n",
       "    </tr>\n",
       "    <tr>\n",
       "      <th>14</th>\n",
       "      <td>month_7</td>\n",
       "      <td>0.145996</td>\n",
       "      <td>0.145996</td>\n",
       "    </tr>\n",
       "    <tr>\n",
       "      <th>21</th>\n",
       "      <td>hour_2</td>\n",
       "      <td>-0.133059</td>\n",
       "      <td>0.133059</td>\n",
       "    </tr>\n",
       "    <tr>\n",
       "      <th>37</th>\n",
       "      <td>hour_18</td>\n",
       "      <td>-0.125116</td>\n",
       "      <td>0.125116</td>\n",
       "    </tr>\n",
       "    <tr>\n",
       "      <th>36</th>\n",
       "      <td>hour_17</td>\n",
       "      <td>-0.121859</td>\n",
       "      <td>0.121859</td>\n",
       "    </tr>\n",
       "    <tr>\n",
       "      <th>20</th>\n",
       "      <td>hour_1</td>\n",
       "      <td>-0.116358</td>\n",
       "      <td>0.116358</td>\n",
       "    </tr>\n",
       "    <tr>\n",
       "      <th>12</th>\n",
       "      <td>month_5</td>\n",
       "      <td>0.113538</td>\n",
       "      <td>0.113538</td>\n",
       "    </tr>\n",
       "    <tr>\n",
       "      <th>33</th>\n",
       "      <td>hour_14</td>\n",
       "      <td>-0.108899</td>\n",
       "      <td>0.108899</td>\n",
       "    </tr>\n",
       "    <tr>\n",
       "      <th>30</th>\n",
       "      <td>hour_11</td>\n",
       "      <td>0.102895</td>\n",
       "      <td>0.102895</td>\n",
       "    </tr>\n",
       "    <tr>\n",
       "      <th>41</th>\n",
       "      <td>hour_22</td>\n",
       "      <td>-0.100355</td>\n",
       "      <td>0.100355</td>\n",
       "    </tr>\n",
       "    <tr>\n",
       "      <th>35</th>\n",
       "      <td>hour_16</td>\n",
       "      <td>-0.092482</td>\n",
       "      <td>0.092482</td>\n",
       "    </tr>\n",
       "    <tr>\n",
       "      <th>31</th>\n",
       "      <td>hour_12</td>\n",
       "      <td>0.085539</td>\n",
       "      <td>0.085539</td>\n",
       "    </tr>\n",
       "    <tr>\n",
       "      <th>28</th>\n",
       "      <td>hour_9</td>\n",
       "      <td>0.075039</td>\n",
       "      <td>0.075039</td>\n",
       "    </tr>\n",
       "    <tr>\n",
       "      <th>2</th>\n",
       "      <td>weekendflag</td>\n",
       "      <td>-0.074888</td>\n",
       "      <td>0.074888</td>\n",
       "    </tr>\n",
       "    <tr>\n",
       "      <th>27</th>\n",
       "      <td>hour_8</td>\n",
       "      <td>-0.071204</td>\n",
       "      <td>0.071204</td>\n",
       "    </tr>\n",
       "    <tr>\n",
       "      <th>22</th>\n",
       "      <td>hour_3</td>\n",
       "      <td>-0.063289</td>\n",
       "      <td>0.063289</td>\n",
       "    </tr>\n",
       "    <tr>\n",
       "      <th>29</th>\n",
       "      <td>hour_10</td>\n",
       "      <td>0.054444</td>\n",
       "      <td>0.054444</td>\n",
       "    </tr>\n",
       "    <tr>\n",
       "      <th>13</th>\n",
       "      <td>month_6</td>\n",
       "      <td>0.046831</td>\n",
       "      <td>0.046831</td>\n",
       "    </tr>\n",
       "    <tr>\n",
       "      <th>42</th>\n",
       "      <td>hour_23</td>\n",
       "      <td>-0.043729</td>\n",
       "      <td>0.043729</td>\n",
       "    </tr>\n",
       "    <tr>\n",
       "      <th>32</th>\n",
       "      <td>hour_13</td>\n",
       "      <td>0.015199</td>\n",
       "      <td>0.015199</td>\n",
       "    </tr>\n",
       "    <tr>\n",
       "      <th>10</th>\n",
       "      <td>month_3</td>\n",
       "      <td>0.003918</td>\n",
       "      <td>0.003918</td>\n",
       "    </tr>\n",
       "  </tbody>\n",
       "</table>\n",
       "</div>"
      ],
      "text/plain": [
       "              est_int      coefs  abs_coefs\n",
       "5      RatecodeID_3.0  21.094494  21.094494\n",
       "7      RatecodeID_5.0  17.677541  17.677541\n",
       "6      RatecodeID_4.0  15.300913  15.300913\n",
       "4      RatecodeID_2.0   3.953922   3.953922\n",
       "8      RatecodeID_6.0  -3.822377   3.822377\n",
       "0       trip_distance   1.793444   1.793444\n",
       "9             month_2   0.534433   0.534433\n",
       "15            month_8   0.531600   0.531600\n",
       "19           month_12   0.522987   0.522987\n",
       "17           month_10   0.379549   0.379549\n",
       "3         holidayflag  -0.342436   0.342436\n",
       "11            month_4   0.326087   0.326087\n",
       "1   tripduration_mins   0.318038   0.318038\n",
       "26             hour_7  -0.282740   0.282740\n",
       "24             hour_5   0.263791   0.263791\n",
       "25             hour_6  -0.225527   0.225527\n",
       "23             hour_4   0.215154   0.215154\n",
       "39            hour_20  -0.191718   0.191718\n",
       "16            month_9   0.174919   0.174919\n",
       "18           month_11   0.171428   0.171428\n",
       "40            hour_21  -0.167348   0.167348\n",
       "38            hour_19  -0.161726   0.161726\n",
       "34            hour_15  -0.148349   0.148349\n",
       "14            month_7   0.145996   0.145996\n",
       "21             hour_2  -0.133059   0.133059\n",
       "37            hour_18  -0.125116   0.125116\n",
       "36            hour_17  -0.121859   0.121859\n",
       "20             hour_1  -0.116358   0.116358\n",
       "12            month_5   0.113538   0.113538\n",
       "33            hour_14  -0.108899   0.108899\n",
       "30            hour_11   0.102895   0.102895\n",
       "41            hour_22  -0.100355   0.100355\n",
       "35            hour_16  -0.092482   0.092482\n",
       "31            hour_12   0.085539   0.085539\n",
       "28             hour_9   0.075039   0.075039\n",
       "2         weekendflag  -0.074888   0.074888\n",
       "27             hour_8  -0.071204   0.071204\n",
       "22             hour_3  -0.063289   0.063289\n",
       "29            hour_10   0.054444   0.054444\n",
       "13            month_6   0.046831   0.046831\n",
       "42            hour_23  -0.043729   0.043729\n",
       "32            hour_13   0.015199   0.015199\n",
       "10            month_3   0.003918   0.003918"
      ]
     },
     "execution_count": 27,
     "metadata": {},
     "output_type": "execute_result"
    }
   ],
   "source": [
    "#Use the function\n",
    "coef_df = coef_weights(lm_model.coef_, X_train)\n",
    "\n",
    "#A quick look at the top results\n",
    "coef_df.head(50)"
   ]
  },
  {
   "cell_type": "markdown",
   "metadata": {},
   "source": [
    "### Scenario #4 XGBoost regressor with important features and onehotencoding for categorical features"
   ]
  },
  {
   "cell_type": "code",
   "execution_count": 4,
   "metadata": {},
   "outputs": [],
   "source": [
    "#Split into explanatory and response variables\n",
    "df_taxi_cat = df_taxi[['trip_distance', 'RatecodeID', 'tripduration_mins', 'month', 'hour', 'weekendflag', 'holidayflag', 'fare_amount']]\n",
    "df_taxi_cat = df_taxi_cat.astype({'RatecodeID': 'object', 'month': 'object', 'hour': 'object'})"
   ]
  },
  {
   "cell_type": "code",
   "execution_count": 9,
   "metadata": {},
   "outputs": [],
   "source": [
    "df_taxi_cat = create_dummy_df(df_taxi_cat, dummy_na=False)\n",
    "del df_taxi"
   ]
  },
  {
   "cell_type": "code",
   "execution_count": 11,
   "metadata": {},
   "outputs": [],
   "source": [
    "#Split into explanatory and response variables\n",
    "y = df_taxi_cat['fare_amount']\n",
    "X = df_taxi_cat.drop('fare_amount', axis=1)\n",
    "del df_taxi_cat"
   ]
  },
  {
   "cell_type": "code",
   "execution_count": 12,
   "metadata": {},
   "outputs": [],
   "source": [
    "#Split into train and test\n",
    "X_train, X_test, y_train, y_test = train_test_split(X, y, test_size = .30, random_state=42)\n",
    "del X\n",
    "del y"
   ]
  },
  {
   "cell_type": "code",
   "execution_count": 13,
   "metadata": {},
   "outputs": [
    {
     "name": "stdout",
     "output_type": "stream",
     "text": [
      "[14:03:08] WARNING: C:/Users/Administrator/workspace/xgboost-win64_release_1.3.0/src/objective/regression_obj.cu:170: reg:linear is now deprecated in favor of reg:squarederror.\n",
      "[14:03:08] WARNING: C:/Users/Administrator/workspace/xgboost-win64_release_1.3.0/src/learner.cc:541: \n",
      "Parameters: { vmax_depth } might not be used.\n",
      "\n",
      "  This may not be accurate due to some parameters are only used in language bindings but\n",
      "  passed down to XGBoost core.  Or some parameters are not used but slip through this\n",
      "  verification. Please open an issue if you find above cases.\n",
      "\n",
      "\n"
     ]
    },
    {
     "data": {
      "text/plain": [
       "XGBRegressor(alpha=10, base_score=0.5, booster='gbtree', colsample_bylevel=1,\n",
       "             colsample_bynode=1, colsample_bytree=0.3, gamma=0, gpu_id=-1,\n",
       "             importance_type='gain', interaction_constraints='',\n",
       "             learning_rate=0.1, max_delta_step=0, max_depth=6,\n",
       "             min_child_weight=1, missing=nan, monotone_constraints='()',\n",
       "             n_estimators=10, n_jobs=8, num_parallel_tree=1,\n",
       "             objective='reg:linear', random_state=0, reg_alpha=10, reg_lambda=1,\n",
       "             scale_pos_weight=1, subsample=1, tree_method='approx',\n",
       "             validate_parameters=1, verbosity=None, vmax_depth=5)"
      ]
     },
     "execution_count": 13,
     "metadata": {},
     "output_type": "execute_result"
    }
   ],
   "source": [
    "xg_reg = xgb.XGBRegressor(objective ='reg:linear', colsample_bytree = 0.3, learning_rate = 0.1,vmax_depth = 5, alpha = 10, n_estimators = 10) # Instantiate\n",
    "xg_reg.fit(X_train, y_train) #Fit"
   ]
  },
  {
   "cell_type": "code",
   "execution_count": 15,
   "metadata": {},
   "outputs": [
    {
     "name": "stdout",
     "output_type": "stream",
     "text": [
      "The r-squared score for our model on Training data is 0.3242116292704751 on 14712202 values.\n",
      "The mean_squared_error score for our model on Training data is 78.61486320225254 on 14712202 values.\n",
      "The root_mean_squared_error score for our model on Training data is 8.866502309380659 on 14712202 values.\n",
      " \n",
      "The r-squared score for our model on Testing data is 0.32425626984223854 on 6305230 values.\n",
      "The mean_squared_error score for our model on Testing data is 78.58642878423606 on 6305230 values.\n",
      "The root_mean_squared_error score for our model on Testing data is 8.86489869001536 on 6305230 values.\n"
     ]
    }
   ],
   "source": [
    "#Predict and score the model on training and test data\n",
    "y_train_preds, y_test_preds = print_model_scores(xg_reg, X_train, X_test, y_train, y_test)"
   ]
  },
  {
   "cell_type": "markdown",
   "metadata": {},
   "source": [
    "### Scenario #5 XGBoost regressor with modified hyper parameters"
   ]
  },
  {
   "cell_type": "code",
   "execution_count": 28,
   "metadata": {},
   "outputs": [
    {
     "name": "stdout",
     "output_type": "stream",
     "text": [
      "[01:30:00] WARNING: C:/Users/Administrator/workspace/xgboost-win64_release_1.3.0/src/objective/regression_obj.cu:170: reg:linear is now deprecated in favor of reg:squarederror.\n",
      "[01:30:00] WARNING: C:/Users/Administrator/workspace/xgboost-win64_release_1.3.0/src/learner.cc:541: \n",
      "Parameters: { vmax_depth } might not be used.\n",
      "\n",
      "  This may not be accurate due to some parameters are only used in language bindings but\n",
      "  passed down to XGBoost core.  Or some parameters are not used but slip through this\n",
      "  verification. Please open an issue if you find above cases.\n",
      "\n",
      "\n"
     ]
    },
    {
     "data": {
      "text/plain": [
       "XGBRegressor(alpha=10, base_score=0.5, booster='gbtree', colsample_bylevel=1,\n",
       "             colsample_bynode=1, colsample_bytree=0.3, gamma=0, gpu_id=-1,\n",
       "             importance_type='gain', interaction_constraints='',\n",
       "             learning_rate=0.1, max_delta_step=0, max_depth=6,\n",
       "             min_child_weight=1, missing=nan, monotone_constraints='()',\n",
       "             n_estimators=50, n_jobs=8, num_parallel_tree=1,\n",
       "             objective='reg:linear', random_state=0, reg_alpha=10, reg_lambda=1,\n",
       "             scale_pos_weight=1, subsample=1, tree_method='approx',\n",
       "             validate_parameters=1, verbosity=None, vmax_depth=5)"
      ]
     },
     "execution_count": 28,
     "metadata": {},
     "output_type": "execute_result"
    }
   ],
   "source": [
    "#Change the n_estimators from 10 to 50\n",
    "xg_reg2 = xgb.XGBRegressor(objective ='reg:linear', colsample_bytree = 0.3, learning_rate = 0.1,vmax_depth = 5, alpha = 10, n_estimators = 50) # Instantiate\n",
    "xg_reg2.fit(X_train, y_train) #Fit"
   ]
  },
  {
   "cell_type": "code",
   "execution_count": 29,
   "metadata": {},
   "outputs": [
    {
     "name": "stdout",
     "output_type": "stream",
     "text": [
      "The r-squared score for our model on Training data is 0.9636330518992762 on 14712202 values.\n",
      "The mean_squared_error score for our model on Training data is 4.230588707727396 on 14712202 values.\n",
      "The root_mean_squared_error score for our model on Training data is 2.056839494887094 on 14712202 values.\n",
      " \n",
      "The r-squared score for our model on Testing data is 0.9638064313943984 on 6305230 values.\n",
      "The mean_squared_error score for our model on Testing data is 4.2091745357480885 on 6305230 values.\n",
      "The root_mean_squared_error score for our model on Testing data is 2.0516272896771697 on 6305230 values.\n"
     ]
    }
   ],
   "source": [
    "#Predict and score the model on training and test data\n",
    "y_train_preds, y_test_preds = print_model_scores(xg_reg2, X_train, X_test, y_train, y_test)"
   ]
  },
  {
   "cell_type": "code",
   "execution_count": 3,
   "metadata": {},
   "outputs": [],
   "source": []
  },
  {
   "cell_type": "code",
   "execution_count": 8,
   "metadata": {},
   "outputs": [],
   "source": []
  },
  {
   "cell_type": "code",
   "execution_count": 9,
   "metadata": {},
   "outputs": [],
   "source": []
  },
  {
   "cell_type": "code",
   "execution_count": 10,
   "metadata": {},
   "outputs": [],
   "source": []
  },
  {
   "cell_type": "code",
   "execution_count": null,
   "metadata": {},
   "outputs": [],
   "source": []
  },
  {
   "cell_type": "code",
   "execution_count": null,
   "metadata": {},
   "outputs": [],
   "source": []
  },
  {
   "cell_type": "code",
   "execution_count": null,
   "metadata": {},
   "outputs": [],
   "source": []
  },
  {
   "cell_type": "code",
   "execution_count": null,
   "metadata": {},
   "outputs": [],
   "source": []
  },
  {
   "cell_type": "code",
   "execution_count": null,
   "metadata": {},
   "outputs": [],
   "source": []
  },
  {
   "cell_type": "code",
   "execution_count": null,
   "metadata": {},
   "outputs": [],
   "source": []
  },
  {
   "cell_type": "code",
   "execution_count": null,
   "metadata": {},
   "outputs": [],
   "source": []
  },
  {
   "cell_type": "code",
   "execution_count": null,
   "metadata": {},
   "outputs": [],
   "source": []
  },
  {
   "cell_type": "code",
   "execution_count": null,
   "metadata": {},
   "outputs": [],
   "source": []
  },
  {
   "cell_type": "code",
   "execution_count": null,
   "metadata": {},
   "outputs": [],
   "source": []
  }
 ],
 "metadata": {
  "kernelspec": {
   "display_name": "Python 3",
   "language": "python",
   "name": "python3"
  },
  "language_info": {
   "codemirror_mode": {
    "name": "ipython",
    "version": 3
   },
   "file_extension": ".py",
   "mimetype": "text/x-python",
   "name": "python",
   "nbconvert_exporter": "python",
   "pygments_lexer": "ipython3",
   "version": "3.7.6"
  }
 },
 "nbformat": 4,
 "nbformat_minor": 2
}
